{
 "cells": [
  {
   "cell_type": "code",
   "execution_count": 1,
   "metadata": {},
   "outputs": [],
   "source": [
    "import pandas as pd\n",
    "import numpy as np\n",
    "import matplotlib.pyplot as plt\n",
    "import seaborn as sns\n",
    "%matplotlib inline\n",
    "plt.style.use('fivethirtyeight')\n",
    "from scipy import stats\n",
    "plt.rcParams['figure.figsize']=16,6\n",
    "import random\n",
    "random.seed(1429)"
   ]
  },
  {
   "cell_type": "code",
   "execution_count": 2,
   "metadata": {},
   "outputs": [
    {
     "name": "stderr",
     "output_type": "stream",
     "text": [
      "Using TensorFlow backend.\n"
     ]
    }
   ],
   "source": [
    "import keras"
   ]
  },
  {
   "cell_type": "code",
   "execution_count": 3,
   "metadata": {},
   "outputs": [],
   "source": [
    "from keras.models import Sequential\n",
    "from keras.layers import Dense"
   ]
  },
  {
   "cell_type": "code",
   "execution_count": 4,
   "metadata": {},
   "outputs": [],
   "source": [
    "from sklearn.metrics import classification_report, confusion_matrix\n",
    "from sklearn.preprocessing import StandardScaler\n",
    "from sklearn.model_selection import train_test_split"
   ]
  },
  {
   "cell_type": "code",
   "execution_count": 5,
   "metadata": {},
   "outputs": [],
   "source": [
    "df=pd.read_csv(\"Churn_Modelling.csv\")"
   ]
  },
  {
   "cell_type": "code",
   "execution_count": 6,
   "metadata": {},
   "outputs": [
    {
     "data": {
      "text/plain": [
       "RowNumber          0\n",
       "CustomerId         0\n",
       "Surname            0\n",
       "CreditScore        0\n",
       "Geography          0\n",
       "Gender             0\n",
       "Age                0\n",
       "Tenure             0\n",
       "Balance            0\n",
       "NumOfProducts      0\n",
       "HasCrCard          0\n",
       "IsActiveMember     0\n",
       "EstimatedSalary    0\n",
       "Exited             0\n",
       "dtype: int64"
      ]
     },
     "execution_count": 6,
     "metadata": {},
     "output_type": "execute_result"
    }
   ],
   "source": [
    "df.isna().sum()"
   ]
  },
  {
   "cell_type": "code",
   "execution_count": 7,
   "metadata": {},
   "outputs": [
    {
     "name": "stdout",
     "output_type": "stream",
     "text": [
      "<class 'pandas.core.frame.DataFrame'>\n",
      "RangeIndex: 10000 entries, 0 to 9999\n",
      "Data columns (total 14 columns):\n",
      "RowNumber          10000 non-null int64\n",
      "CustomerId         10000 non-null int64\n",
      "Surname            10000 non-null object\n",
      "CreditScore        10000 non-null int64\n",
      "Geography          10000 non-null object\n",
      "Gender             10000 non-null object\n",
      "Age                10000 non-null int64\n",
      "Tenure             10000 non-null int64\n",
      "Balance            10000 non-null float64\n",
      "NumOfProducts      10000 non-null int64\n",
      "HasCrCard          10000 non-null int64\n",
      "IsActiveMember     10000 non-null int64\n",
      "EstimatedSalary    10000 non-null float64\n",
      "Exited             10000 non-null int64\n",
      "dtypes: float64(2), int64(9), object(3)\n",
      "memory usage: 1.1+ MB\n"
     ]
    }
   ],
   "source": [
    "df.info()"
   ]
  },
  {
   "cell_type": "code",
   "execution_count": 8,
   "metadata": {},
   "outputs": [
    {
     "data": {
      "text/html": [
       "<div>\n",
       "<style scoped>\n",
       "    .dataframe tbody tr th:only-of-type {\n",
       "        vertical-align: middle;\n",
       "    }\n",
       "\n",
       "    .dataframe tbody tr th {\n",
       "        vertical-align: top;\n",
       "    }\n",
       "\n",
       "    .dataframe thead th {\n",
       "        text-align: right;\n",
       "    }\n",
       "</style>\n",
       "<table border=\"1\" class=\"dataframe\">\n",
       "  <thead>\n",
       "    <tr style=\"text-align: right;\">\n",
       "      <th></th>\n",
       "      <th>RowNumber</th>\n",
       "      <th>CustomerId</th>\n",
       "      <th>Surname</th>\n",
       "      <th>CreditScore</th>\n",
       "      <th>Geography</th>\n",
       "      <th>Gender</th>\n",
       "      <th>Age</th>\n",
       "      <th>Tenure</th>\n",
       "      <th>Balance</th>\n",
       "      <th>NumOfProducts</th>\n",
       "      <th>HasCrCard</th>\n",
       "      <th>IsActiveMember</th>\n",
       "      <th>EstimatedSalary</th>\n",
       "      <th>Exited</th>\n",
       "    </tr>\n",
       "  </thead>\n",
       "  <tbody>\n",
       "    <tr>\n",
       "      <th>0</th>\n",
       "      <td>1</td>\n",
       "      <td>15634602</td>\n",
       "      <td>Hargrave</td>\n",
       "      <td>619</td>\n",
       "      <td>France</td>\n",
       "      <td>Female</td>\n",
       "      <td>42</td>\n",
       "      <td>2</td>\n",
       "      <td>0.00</td>\n",
       "      <td>1</td>\n",
       "      <td>1</td>\n",
       "      <td>1</td>\n",
       "      <td>101348.88</td>\n",
       "      <td>1</td>\n",
       "    </tr>\n",
       "    <tr>\n",
       "      <th>1</th>\n",
       "      <td>2</td>\n",
       "      <td>15647311</td>\n",
       "      <td>Hill</td>\n",
       "      <td>608</td>\n",
       "      <td>Spain</td>\n",
       "      <td>Female</td>\n",
       "      <td>41</td>\n",
       "      <td>1</td>\n",
       "      <td>83807.86</td>\n",
       "      <td>1</td>\n",
       "      <td>0</td>\n",
       "      <td>1</td>\n",
       "      <td>112542.58</td>\n",
       "      <td>0</td>\n",
       "    </tr>\n",
       "    <tr>\n",
       "      <th>2</th>\n",
       "      <td>3</td>\n",
       "      <td>15619304</td>\n",
       "      <td>Onio</td>\n",
       "      <td>502</td>\n",
       "      <td>France</td>\n",
       "      <td>Female</td>\n",
       "      <td>42</td>\n",
       "      <td>8</td>\n",
       "      <td>159660.80</td>\n",
       "      <td>3</td>\n",
       "      <td>1</td>\n",
       "      <td>0</td>\n",
       "      <td>113931.57</td>\n",
       "      <td>1</td>\n",
       "    </tr>\n",
       "    <tr>\n",
       "      <th>3</th>\n",
       "      <td>4</td>\n",
       "      <td>15701354</td>\n",
       "      <td>Boni</td>\n",
       "      <td>699</td>\n",
       "      <td>France</td>\n",
       "      <td>Female</td>\n",
       "      <td>39</td>\n",
       "      <td>1</td>\n",
       "      <td>0.00</td>\n",
       "      <td>2</td>\n",
       "      <td>0</td>\n",
       "      <td>0</td>\n",
       "      <td>93826.63</td>\n",
       "      <td>0</td>\n",
       "    </tr>\n",
       "    <tr>\n",
       "      <th>4</th>\n",
       "      <td>5</td>\n",
       "      <td>15737888</td>\n",
       "      <td>Mitchell</td>\n",
       "      <td>850</td>\n",
       "      <td>Spain</td>\n",
       "      <td>Female</td>\n",
       "      <td>43</td>\n",
       "      <td>2</td>\n",
       "      <td>125510.82</td>\n",
       "      <td>1</td>\n",
       "      <td>1</td>\n",
       "      <td>1</td>\n",
       "      <td>79084.10</td>\n",
       "      <td>0</td>\n",
       "    </tr>\n",
       "  </tbody>\n",
       "</table>\n",
       "</div>"
      ],
      "text/plain": [
       "   RowNumber  CustomerId   Surname  CreditScore Geography  Gender  Age  \\\n",
       "0          1    15634602  Hargrave          619    France  Female   42   \n",
       "1          2    15647311      Hill          608     Spain  Female   41   \n",
       "2          3    15619304      Onio          502    France  Female   42   \n",
       "3          4    15701354      Boni          699    France  Female   39   \n",
       "4          5    15737888  Mitchell          850     Spain  Female   43   \n",
       "\n",
       "   Tenure    Balance  NumOfProducts  HasCrCard  IsActiveMember  \\\n",
       "0       2       0.00              1          1               1   \n",
       "1       1   83807.86              1          0               1   \n",
       "2       8  159660.80              3          1               0   \n",
       "3       1       0.00              2          0               0   \n",
       "4       2  125510.82              1          1               1   \n",
       "\n",
       "   EstimatedSalary  Exited  \n",
       "0        101348.88       1  \n",
       "1        112542.58       0  \n",
       "2        113931.57       1  \n",
       "3         93826.63       0  \n",
       "4         79084.10       0  "
      ]
     },
     "execution_count": 8,
     "metadata": {},
     "output_type": "execute_result"
    }
   ],
   "source": [
    "df.head()"
   ]
  },
  {
   "cell_type": "code",
   "execution_count": 9,
   "metadata": {},
   "outputs": [],
   "source": [
    "df.Exited=df.Exited.astype('category')"
   ]
  },
  {
   "cell_type": "code",
   "execution_count": 10,
   "metadata": {},
   "outputs": [],
   "source": [
    "df.drop(labels=['RowNumber', 'CustomerId', 'Surname'], axis=1, inplace=True)"
   ]
  },
  {
   "cell_type": "code",
   "execution_count": 11,
   "metadata": {},
   "outputs": [],
   "source": [
    "df.Geography=df.Geography.astype('category')"
   ]
  },
  {
   "cell_type": "code",
   "execution_count": 12,
   "metadata": {},
   "outputs": [],
   "source": [
    "df.Gender=df.Gender.astype('category')"
   ]
  },
  {
   "cell_type": "code",
   "execution_count": 13,
   "metadata": {},
   "outputs": [],
   "source": [
    "df.HasCrCard=df.HasCrCard.astype('category')"
   ]
  },
  {
   "cell_type": "code",
   "execution_count": 14,
   "metadata": {},
   "outputs": [],
   "source": [
    "df.IsActiveMember=df.IsActiveMember.astype('category')"
   ]
  },
  {
   "cell_type": "code",
   "execution_count": 15,
   "metadata": {},
   "outputs": [],
   "source": [
    "df.NumOfProducts=df.NumOfProducts.astype('category')"
   ]
  },
  {
   "cell_type": "code",
   "execution_count": 16,
   "metadata": {},
   "outputs": [
    {
     "data": {
      "text/html": [
       "<div>\n",
       "<style scoped>\n",
       "    .dataframe tbody tr th:only-of-type {\n",
       "        vertical-align: middle;\n",
       "    }\n",
       "\n",
       "    .dataframe tbody tr th {\n",
       "        vertical-align: top;\n",
       "    }\n",
       "\n",
       "    .dataframe thead th {\n",
       "        text-align: right;\n",
       "    }\n",
       "</style>\n",
       "<table border=\"1\" class=\"dataframe\">\n",
       "  <thead>\n",
       "    <tr style=\"text-align: right;\">\n",
       "      <th></th>\n",
       "      <th>CreditScore</th>\n",
       "      <th>Age</th>\n",
       "      <th>Tenure</th>\n",
       "      <th>Balance</th>\n",
       "      <th>EstimatedSalary</th>\n",
       "    </tr>\n",
       "  </thead>\n",
       "  <tbody>\n",
       "    <tr>\n",
       "      <th>count</th>\n",
       "      <td>10000.000000</td>\n",
       "      <td>10000.000000</td>\n",
       "      <td>10000.000000</td>\n",
       "      <td>10000.000000</td>\n",
       "      <td>10000.000000</td>\n",
       "    </tr>\n",
       "    <tr>\n",
       "      <th>mean</th>\n",
       "      <td>650.528800</td>\n",
       "      <td>38.921800</td>\n",
       "      <td>5.012800</td>\n",
       "      <td>76485.889288</td>\n",
       "      <td>100090.239881</td>\n",
       "    </tr>\n",
       "    <tr>\n",
       "      <th>std</th>\n",
       "      <td>96.653299</td>\n",
       "      <td>10.487806</td>\n",
       "      <td>2.892174</td>\n",
       "      <td>62397.405202</td>\n",
       "      <td>57510.492818</td>\n",
       "    </tr>\n",
       "    <tr>\n",
       "      <th>min</th>\n",
       "      <td>350.000000</td>\n",
       "      <td>18.000000</td>\n",
       "      <td>0.000000</td>\n",
       "      <td>0.000000</td>\n",
       "      <td>11.580000</td>\n",
       "    </tr>\n",
       "    <tr>\n",
       "      <th>25%</th>\n",
       "      <td>584.000000</td>\n",
       "      <td>32.000000</td>\n",
       "      <td>3.000000</td>\n",
       "      <td>0.000000</td>\n",
       "      <td>51002.110000</td>\n",
       "    </tr>\n",
       "    <tr>\n",
       "      <th>50%</th>\n",
       "      <td>652.000000</td>\n",
       "      <td>37.000000</td>\n",
       "      <td>5.000000</td>\n",
       "      <td>97198.540000</td>\n",
       "      <td>100193.915000</td>\n",
       "    </tr>\n",
       "    <tr>\n",
       "      <th>75%</th>\n",
       "      <td>718.000000</td>\n",
       "      <td>44.000000</td>\n",
       "      <td>7.000000</td>\n",
       "      <td>127644.240000</td>\n",
       "      <td>149388.247500</td>\n",
       "    </tr>\n",
       "    <tr>\n",
       "      <th>max</th>\n",
       "      <td>850.000000</td>\n",
       "      <td>92.000000</td>\n",
       "      <td>10.000000</td>\n",
       "      <td>250898.090000</td>\n",
       "      <td>199992.480000</td>\n",
       "    </tr>\n",
       "  </tbody>\n",
       "</table>\n",
       "</div>"
      ],
      "text/plain": [
       "        CreditScore           Age        Tenure        Balance  \\\n",
       "count  10000.000000  10000.000000  10000.000000   10000.000000   \n",
       "mean     650.528800     38.921800      5.012800   76485.889288   \n",
       "std       96.653299     10.487806      2.892174   62397.405202   \n",
       "min      350.000000     18.000000      0.000000       0.000000   \n",
       "25%      584.000000     32.000000      3.000000       0.000000   \n",
       "50%      652.000000     37.000000      5.000000   97198.540000   \n",
       "75%      718.000000     44.000000      7.000000  127644.240000   \n",
       "max      850.000000     92.000000     10.000000  250898.090000   \n",
       "\n",
       "       EstimatedSalary  \n",
       "count     10000.000000  \n",
       "mean     100090.239881  \n",
       "std       57510.492818  \n",
       "min          11.580000  \n",
       "25%       51002.110000  \n",
       "50%      100193.915000  \n",
       "75%      149388.247500  \n",
       "max      199992.480000  "
      ]
     },
     "execution_count": 16,
     "metadata": {},
     "output_type": "execute_result"
    }
   ],
   "source": [
    "df.describe()"
   ]
  },
  {
   "cell_type": "code",
   "execution_count": 17,
   "metadata": {},
   "outputs": [
    {
     "data": {
      "text/plain": [
       "0    7963\n",
       "1    2037\n",
       "Name: Exited, dtype: int64"
      ]
     },
     "execution_count": 17,
     "metadata": {},
     "output_type": "execute_result"
    }
   ],
   "source": [
    "df.Exited.value_counts()"
   ]
  },
  {
   "cell_type": "code",
   "execution_count": 18,
   "metadata": {},
   "outputs": [
    {
     "data": {
      "text/plain": [
       "<matplotlib.axes._subplots.AxesSubplot at 0x20fb557b788>"
      ]
     },
     "execution_count": 18,
     "metadata": {},
     "output_type": "execute_result"
    },
    {
     "data": {
      "image/png": "[encoded data removed]",
      "text/plain": [
       "<Figure size 1152x432 with 1 Axes>"
      ]
     },
     "metadata": {
      "needs_background": "light"
     },
     "output_type": "display_data"
    }
   ],
   "source": [
    "plt.rcParams['figure.figsize']=16,6\n",
    "sns.countplot(df.Exited)"
   ]
  },
  {
   "cell_type": "code",
   "execution_count": 19,
   "metadata": {},
   "outputs": [
    {
     "data": {
      "text/plain": [
       "<matplotlib.axes._subplots.AxesSubplot at 0x20fb5b05388>"
      ]
     },
     "execution_count": 19,
     "metadata": {},
     "output_type": "execute_result"
    },
    {
     "data": {
      "image/png": "[encoded data removed]",
      "text/plain": [
       "<Figure size 1152x432 with 1 Axes>"
      ]
     },
     "metadata": {
      "needs_background": "light"
     },
     "output_type": "display_data"
    }
   ],
   "source": [
    "plt.rcParams['figure.figsize']=16,6\n",
    "sns.distplot(df.CreditScore, hist_kws={'edgecolor':'k','lw':2}, fit=stats.norm)"
   ]
  },
  {
   "cell_type": "code",
   "execution_count": 20,
   "metadata": {},
   "outputs": [
    {
     "data": {
      "text/plain": [
       "<matplotlib.axes._subplots.AxesSubplot at 0x20fb5926dc8>"
      ]
     },
     "execution_count": 20,
     "metadata": {},
     "output_type": "execute_result"
    },
    {
     "data": {
      "image/png": "[encoded data removed]",
      "text/plain": [
       "<Figure size 1152x432 with 1 Axes>"
      ]
     },
     "metadata": {
      "needs_background": "light"
     },
     "output_type": "display_data"
    }
   ],
   "source": [
    "plt.rcParams['figure.figsize']=16,6\n",
    "sns.distplot(df.Age, hist_kws={'edgecolor':'k','lw':2}, fit=stats.norm)"
   ]
  },
  {
   "cell_type": "code",
   "execution_count": 21,
   "metadata": {},
   "outputs": [
    {
     "data": {
      "text/plain": [
       "<matplotlib.axes._subplots.AxesSubplot at 0x20fb5cd6888>"
      ]
     },
     "execution_count": 21,
     "metadata": {},
     "output_type": "execute_result"
    },
    {
     "data": {
      "image/png": "[encoded data removed]",
      "text/plain": [
       "<Figure size 1152x432 with 1 Axes>"
      ]
     },
     "metadata": {
      "needs_background": "light"
     },
     "output_type": "display_data"
    }
   ],
   "source": [
    "plt.rcParams['figure.figsize']=16,6\n",
    "sns.distplot(df.Tenure, hist_kws={'edgecolor':'k','lw':2}, fit=stats.norm)"
   ]
  },
  {
   "cell_type": "code",
   "execution_count": 22,
   "metadata": {},
   "outputs": [
    {
     "data": {
      "text/plain": [
       "<matplotlib.axes._subplots.AxesSubplot at 0x20fb60c03c8>"
      ]
     },
     "execution_count": 22,
     "metadata": {},
     "output_type": "execute_result"
    },
    {
     "data": {
      "image/png": "[encoded data removed]",
      "text/plain": [
       "<Figure size 1152x432 with 1 Axes>"
      ]
     },
     "metadata": {
      "needs_background": "light"
     },
     "output_type": "display_data"
    }
   ],
   "source": [
    "plt.rcParams['figure.figsize']=16,6\n",
    "sns.countplot(df.Tenure)"
   ]
  },
  {
   "cell_type": "code",
   "execution_count": 23,
   "metadata": {},
   "outputs": [
    {
     "data": {
      "text/plain": [
       "<matplotlib.axes._subplots.AxesSubplot at 0x20fb60e2ac8>"
      ]
     },
     "execution_count": 23,
     "metadata": {},
     "output_type": "execute_result"
    },
    {
     "data": {
      "image/png": "[encoded data removed]",
      "text/plain": [
       "<Figure size 1152x432 with 1 Axes>"
      ]
     },
     "metadata": {
      "needs_background": "light"
     },
     "output_type": "display_data"
    }
   ],
   "source": [
    "sns.countplot(df.Geography)"
   ]
  },
  {
   "cell_type": "code",
   "execution_count": 24,
   "metadata": {},
   "outputs": [
    {
     "data": {
      "text/plain": [
       "<matplotlib.axes._subplots.AxesSubplot at 0x20fb617e508>"
      ]
     },
     "execution_count": 24,
     "metadata": {},
     "output_type": "execute_result"
    },
    {
     "data": {
      "image/png": "[encoded data removed]",
      "text/plain": [
       "<Figure size 1152x432 with 1 Axes>"
      ]
     },
     "metadata": {
      "needs_background": "light"
     },
     "output_type": "display_data"
    }
   ],
   "source": [
    "sns.countplot(df.Gender)"
   ]
  },
  {
   "cell_type": "code",
   "execution_count": 25,
   "metadata": {},
   "outputs": [
    {
     "data": {
      "text/plain": [
       "<matplotlib.axes._subplots.AxesSubplot at 0x20fb61b5f88>"
      ]
     },
     "execution_count": 25,
     "metadata": {},
     "output_type": "execute_result"
    },
    {
     "data": {
      "image/png": "[encoded data removed]",
      "text/plain": [
       "<Figure size 1152x432 with 1 Axes>"
      ]
     },
     "metadata": {
      "needs_background": "light"
     },
     "output_type": "display_data"
    }
   ],
   "source": [
    "plt.rcParams['figure.figsize']=16,6\n",
    "sns.distplot(df.Balance, hist_kws={'edgecolor':'k','lw':2}, fit=stats.norm)"
   ]
  },
  {
   "cell_type": "code",
   "execution_count": 26,
   "metadata": {},
   "outputs": [
    {
     "data": {
      "text/plain": [
       "<matplotlib.axes._subplots.AxesSubplot at 0x20fb626d9c8>"
      ]
     },
     "execution_count": 26,
     "metadata": {},
     "output_type": "execute_result"
    },
    {
     "data": {
      "image/png": "[encoded data removed]",
      "text/plain": [
       "<Figure size 1152x432 with 1 Axes>"
      ]
     },
     "metadata": {
      "needs_background": "light"
     },
     "output_type": "display_data"
    }
   ],
   "source": [
    "sns.countplot(df.NumOfProducts)"
   ]
  },
  {
   "cell_type": "code",
   "execution_count": 27,
   "metadata": {},
   "outputs": [
    {
     "data": {
      "text/plain": [
       "<matplotlib.axes._subplots.AxesSubplot at 0x20fb64ccb48>"
      ]
     },
     "execution_count": 27,
     "metadata": {},
     "output_type": "execute_result"
    },
    {
     "data": {
      "image/png": "[encoded data removed]",
      "text/plain": [
       "<Figure size 1152x432 with 1 Axes>"
      ]
     },
     "metadata": {
      "needs_background": "light"
     },
     "output_type": "display_data"
    }
   ],
   "source": [
    "sns.countplot(df.HasCrCard)"
   ]
  },
  {
   "cell_type": "code",
   "execution_count": 28,
   "metadata": {},
   "outputs": [
    {
     "data": {
      "text/plain": [
       "<matplotlib.axes._subplots.AxesSubplot at 0x20fb64ccc48>"
      ]
     },
     "execution_count": 28,
     "metadata": {},
     "output_type": "execute_result"
    },
    {
     "data": {
      "image/png": "[encoded data removed]",
      "text/plain": [
       "<Figure size 1152x432 with 1 Axes>"
      ]
     },
     "metadata": {
      "needs_background": "light"
     },
     "output_type": "display_data"
    }
   ],
   "source": [
    "sns.countplot(df.IsActiveMember)"
   ]
  },
  {
   "cell_type": "code",
   "execution_count": 29,
   "metadata": {},
   "outputs": [
    {
     "data": {
      "text/plain": [
       "<matplotlib.axes._subplots.AxesSubplot at 0x20fb6570408>"
      ]
     },
     "execution_count": 29,
     "metadata": {},
     "output_type": "execute_result"
    },
    {
     "data": {
      "image/png": "[encoded data removed]",
      "text/plain": [
       "<Figure size 1152x432 with 1 Axes>"
      ]
     },
     "metadata": {
      "needs_background": "light"
     },
     "output_type": "display_data"
    }
   ],
   "source": [
    "plt.rcParams['figure.figsize']=16,6\n",
    "sns.distplot(df.EstimatedSalary, hist_kws={'edgecolor':'k','lw':2}, fit=stats.norm)"
   ]
  },
  {
   "cell_type": "code",
   "execution_count": 30,
   "metadata": {},
   "outputs": [],
   "source": [
    "dum=pd.get_dummies(data=df.loc[:,['Geography','Gender']], drop_first=True)"
   ]
  },
  {
   "cell_type": "code",
   "execution_count": 31,
   "metadata": {},
   "outputs": [],
   "source": [
    "DF=pd.concat([df.drop(labels=['Geography','Gender'], axis=1), dum], axis=1)"
   ]
  },
  {
   "cell_type": "code",
   "execution_count": 32,
   "metadata": {},
   "outputs": [
    {
     "data": {
      "text/html": [
       "<div>\n",
       "<style scoped>\n",
       "    .dataframe tbody tr th:only-of-type {\n",
       "        vertical-align: middle;\n",
       "    }\n",
       "\n",
       "    .dataframe tbody tr th {\n",
       "        vertical-align: top;\n",
       "    }\n",
       "\n",
       "    .dataframe thead th {\n",
       "        text-align: right;\n",
       "    }\n",
       "</style>\n",
       "<table border=\"1\" class=\"dataframe\">\n",
       "  <thead>\n",
       "    <tr style=\"text-align: right;\">\n",
       "      <th></th>\n",
       "      <th>CreditScore</th>\n",
       "      <th>Age</th>\n",
       "      <th>Tenure</th>\n",
       "      <th>Balance</th>\n",
       "      <th>NumOfProducts</th>\n",
       "      <th>HasCrCard</th>\n",
       "      <th>IsActiveMember</th>\n",
       "      <th>EstimatedSalary</th>\n",
       "      <th>Exited</th>\n",
       "      <th>Geography_Germany</th>\n",
       "      <th>Geography_Spain</th>\n",
       "      <th>Gender_Male</th>\n",
       "    </tr>\n",
       "  </thead>\n",
       "  <tbody>\n",
       "    <tr>\n",
       "      <th>0</th>\n",
       "      <td>619</td>\n",
       "      <td>42</td>\n",
       "      <td>2</td>\n",
       "      <td>0.00</td>\n",
       "      <td>1</td>\n",
       "      <td>1</td>\n",
       "      <td>1</td>\n",
       "      <td>101348.88</td>\n",
       "      <td>1</td>\n",
       "      <td>0</td>\n",
       "      <td>0</td>\n",
       "      <td>0</td>\n",
       "    </tr>\n",
       "    <tr>\n",
       "      <th>1</th>\n",
       "      <td>608</td>\n",
       "      <td>41</td>\n",
       "      <td>1</td>\n",
       "      <td>83807.86</td>\n",
       "      <td>1</td>\n",
       "      <td>0</td>\n",
       "      <td>1</td>\n",
       "      <td>112542.58</td>\n",
       "      <td>0</td>\n",
       "      <td>0</td>\n",
       "      <td>1</td>\n",
       "      <td>0</td>\n",
       "    </tr>\n",
       "    <tr>\n",
       "      <th>2</th>\n",
       "      <td>502</td>\n",
       "      <td>42</td>\n",
       "      <td>8</td>\n",
       "      <td>159660.80</td>\n",
       "      <td>3</td>\n",
       "      <td>1</td>\n",
       "      <td>0</td>\n",
       "      <td>113931.57</td>\n",
       "      <td>1</td>\n",
       "      <td>0</td>\n",
       "      <td>0</td>\n",
       "      <td>0</td>\n",
       "    </tr>\n",
       "    <tr>\n",
       "      <th>3</th>\n",
       "      <td>699</td>\n",
       "      <td>39</td>\n",
       "      <td>1</td>\n",
       "      <td>0.00</td>\n",
       "      <td>2</td>\n",
       "      <td>0</td>\n",
       "      <td>0</td>\n",
       "      <td>93826.63</td>\n",
       "      <td>0</td>\n",
       "      <td>0</td>\n",
       "      <td>0</td>\n",
       "      <td>0</td>\n",
       "    </tr>\n",
       "    <tr>\n",
       "      <th>4</th>\n",
       "      <td>850</td>\n",
       "      <td>43</td>\n",
       "      <td>2</td>\n",
       "      <td>125510.82</td>\n",
       "      <td>1</td>\n",
       "      <td>1</td>\n",
       "      <td>1</td>\n",
       "      <td>79084.10</td>\n",
       "      <td>0</td>\n",
       "      <td>0</td>\n",
       "      <td>1</td>\n",
       "      <td>0</td>\n",
       "    </tr>\n",
       "  </tbody>\n",
       "</table>\n",
       "</div>"
      ],
      "text/plain": [
       "   CreditScore  Age  Tenure    Balance NumOfProducts HasCrCard IsActiveMember  \\\n",
       "0          619   42       2       0.00             1         1              1   \n",
       "1          608   41       1   83807.86             1         0              1   \n",
       "2          502   42       8  159660.80             3         1              0   \n",
       "3          699   39       1       0.00             2         0              0   \n",
       "4          850   43       2  125510.82             1         1              1   \n",
       "\n",
       "   EstimatedSalary Exited  Geography_Germany  Geography_Spain  Gender_Male  \n",
       "0        101348.88      1                  0                0            0  \n",
       "1        112542.58      0                  0                1            0  \n",
       "2        113931.57      1                  0                0            0  \n",
       "3         93826.63      0                  0                0            0  \n",
       "4         79084.10      0                  0                1            0  "
      ]
     },
     "execution_count": 32,
     "metadata": {},
     "output_type": "execute_result"
    }
   ],
   "source": [
    "DF.head()"
   ]
  },
  {
   "cell_type": "code",
   "execution_count": 33,
   "metadata": {},
   "outputs": [
    {
     "data": {
      "text/plain": [
       "Index(['CreditScore', 'Age', 'Tenure', 'Balance', 'NumOfProducts', 'HasCrCard',\n",
       "       'IsActiveMember', 'EstimatedSalary', 'Exited', 'Geography_Germany',\n",
       "       'Geography_Spain', 'Gender_Male'],\n",
       "      dtype='object')"
      ]
     },
     "execution_count": 33,
     "metadata": {},
     "output_type": "execute_result"
    }
   ],
   "source": [
    "DF.columns"
   ]
  },
  {
   "cell_type": "code",
   "execution_count": 34,
   "metadata": {},
   "outputs": [],
   "source": [
    "X=DF.loc[:,['CreditScore', 'Age', 'Tenure', 'Balance', 'NumOfProducts', 'HasCrCard',\n",
    "       'IsActiveMember', 'EstimatedSalary', 'Geography_Germany',\n",
    "       'Geography_Spain', 'Gender_Male']]\n",
    "y=DF.loc[:,'Exited']"
   ]
  },
  {
   "cell_type": "code",
   "execution_count": 35,
   "metadata": {},
   "outputs": [],
   "source": [
    "X_train, X_test, y_train, y_test = train_test_split(X, y, test_size=0.3, random_state=42)"
   ]
  },
  {
   "cell_type": "code",
   "execution_count": 36,
   "metadata": {},
   "outputs": [],
   "source": [
    "from imblearn.over_sampling import SMOTE\n",
    "smt=SMOTE(ratio=1.0)"
   ]
  },
  {
   "cell_type": "code",
   "execution_count": 37,
   "metadata": {},
   "outputs": [],
   "source": [
    "X_train_smt, y_train_smt=smt.fit_sample(X_train, y_train)"
   ]
  },
  {
   "cell_type": "code",
   "execution_count": 38,
   "metadata": {},
   "outputs": [
    {
     "data": {
      "text/plain": [
       "<matplotlib.axes._subplots.AxesSubplot at 0x20fb8716ac8>"
      ]
     },
     "execution_count": 38,
     "metadata": {},
     "output_type": "execute_result"
    },
    {
     "data": {
      "image/png": "[encoded data removed]",
      "text/plain": [
       "<Figure size 1152x432 with 1 Axes>"
      ]
     },
     "metadata": {
      "needs_background": "light"
     },
     "output_type": "display_data"
    }
   ],
   "source": [
    "sns.countplot(y_train_smt)"
   ]
  },
  {
   "cell_type": "code",
   "execution_count": 39,
   "metadata": {},
   "outputs": [],
   "source": [
    "X_train_smt=pd.DataFrame(X_train_smt, columns=X_train.columns)\n"
   ]
  },
  {
   "cell_type": "code",
   "execution_count": 40,
   "metadata": {},
   "outputs": [],
   "source": [
    "y_train_smt=pd.DataFrame(y_train_smt, columns=['Exited'])"
   ]
  },
  {
   "cell_type": "code",
   "execution_count": 41,
   "metadata": {},
   "outputs": [],
   "source": [
    "skl=StandardScaler()"
   ]
  },
  {
   "cell_type": "code",
   "execution_count": 42,
   "metadata": {},
   "outputs": [],
   "source": [
    "X_train_skl=skl.fit_transform(X_train_smt)\n",
    "X_test_skl=skl.transform(X_test)"
   ]
  },
  {
   "cell_type": "code",
   "execution_count": 43,
   "metadata": {},
   "outputs": [],
   "source": [
    "X_train_skl=pd.DataFrame(X_train_skl, columns=X_train.columns)\n"
   ]
  },
  {
   "cell_type": "code",
   "execution_count": 44,
   "metadata": {},
   "outputs": [],
   "source": [
    "X_test_skl=pd.DataFrame(X_test_skl, columns=X_test.columns)\n"
   ]
  },
  {
   "cell_type": "code",
   "execution_count": 45,
   "metadata": {},
   "outputs": [],
   "source": [
    "classification=Sequential()"
   ]
  },
  {
   "cell_type": "markdown",
   "metadata": {},
   "source": [
    "1st Hidden Layer"
   ]
  },
  {
   "cell_type": "code",
   "execution_count": 46,
   "metadata": {},
   "outputs": [],
   "source": [
    "classification.add(Dense(units=6, input_dim=11,activation='relu', kernel_initializer='uniform'))"
   ]
  },
  {
   "cell_type": "markdown",
   "metadata": {},
   "source": [
    "2nd Hidden Layer"
   ]
  },
  {
   "cell_type": "code",
   "execution_count": 47,
   "metadata": {},
   "outputs": [],
   "source": [
    "classification.add(Dense(units=6,activation='relu', kernel_initializer='uniform'))"
   ]
  },
  {
   "cell_type": "markdown",
   "metadata": {},
   "source": [
    "output layer"
   ]
  },
  {
   "cell_type": "code",
   "execution_count": 48,
   "metadata": {},
   "outputs": [],
   "source": [
    "classification.add(Dense(units=1,activation='sigmoid', kernel_initializer='uniform'))"
   ]
  },
  {
   "cell_type": "markdown",
   "metadata": {},
   "source": [
    "compiling the ANN/ / using SGD"
   ]
  },
  {
   "cell_type": "code",
   "execution_count": 49,
   "metadata": {},
   "outputs": [],
   "source": [
    "classification.compile(optimizer='adam', loss='binary_crossentropy', metrics=['accuracy'])"
   ]
  },
  {
   "cell_type": "markdown",
   "metadata": {},
   "source": [
    "Training the ANN"
   ]
  },
  {
   "cell_type": "code",
   "execution_count": 50,
   "metadata": {
    "scrolled": false
   },
   "outputs": [
    {
     "name": "stdout",
     "output_type": "stream",
     "text": [
      "Epoch 1/100\n",
      "11094/11094 [==============================] - 1s 96us/step - loss: 0.5798 - accuracy: 0.7040\n",
      "Epoch 2/100\n",
      "11094/11094 [==============================] - 1s 90us/step - loss: 0.5148 - accuracy: 0.7544\n",
      "Epoch 3/100\n",
      "11094/11094 [==============================] - 1s 93us/step - loss: 0.4931 - accuracy: 0.7685\n",
      "Epoch 4/100\n",
      "11094/11094 [==============================] - 1s 93us/step - loss: 0.4819 - accuracy: 0.7745\n",
      "Epoch 5/100\n",
      "11094/11094 [==============================] - 1s 97us/step - loss: 0.4754 - accuracy: 0.7729\n",
      "Epoch 6/100\n",
      "11094/11094 [==============================] - 1s 93us/step - loss: 0.4702 - accuracy: 0.7780\n",
      "Epoch 7/100\n",
      "11094/11094 [==============================] - 1s 90us/step - loss: 0.4608 - accuracy: 0.7826\n",
      "Epoch 8/100\n",
      "11094/11094 [==============================] - 1s 98us/step - loss: 0.4504 - accuracy: 0.7882\n",
      "Epoch 9/100\n",
      "11094/11094 [==============================] - 1s 94us/step - loss: 0.4405 - accuracy: 0.7956\n",
      "Epoch 10/100\n",
      "11094/11094 [==============================] - 1s 94us/step - loss: 0.4327 - accuracy: 0.8017\n",
      "Epoch 11/100\n",
      "11094/11094 [==============================] - 1s 94us/step - loss: 0.4253 - accuracy: 0.8058\n",
      "Epoch 12/100\n",
      "11094/11094 [==============================] - 1s 96us/step - loss: 0.4193 - accuracy: 0.8076\n",
      "Epoch 13/100\n",
      "11094/11094 [==============================] - 1s 106us/step - loss: 0.4146 - accuracy: 0.8121\n",
      "Epoch 14/100\n",
      "11094/11094 [==============================] - 1s 91us/step - loss: 0.4109 - accuracy: 0.8144\n",
      "Epoch 15/100\n",
      "11094/11094 [==============================] - 1s 98us/step - loss: 0.4080 - accuracy: 0.8119\n",
      "Epoch 16/100\n",
      "11094/11094 [==============================] - 1s 91us/step - loss: 0.4059 - accuracy: 0.8150\n",
      "Epoch 17/100\n",
      "11094/11094 [==============================] - 1s 92us/step - loss: 0.4040 - accuracy: 0.8162\n",
      "Epoch 18/100\n",
      "11094/11094 [==============================] - 1s 96us/step - loss: 0.4022 - accuracy: 0.8164\n",
      "Epoch 19/100\n",
      "11094/11094 [==============================] - 1s 93us/step - loss: 0.4012 - accuracy: 0.8153\n",
      "Epoch 20/100\n",
      "11094/11094 [==============================] - 1s 110us/step - loss: 0.3985 - accuracy: 0.8192\n",
      "Epoch 21/100\n",
      "11094/11094 [==============================] - 1s 109us/step - loss: 0.3983 - accuracy: 0.8167\n",
      "Epoch 22/100\n",
      "11094/11094 [==============================] - 1s 94us/step - loss: 0.3958 - accuracy: 0.8225\n",
      "Epoch 23/100\n",
      "11094/11094 [==============================] - 1s 104us/step - loss: 0.3940 - accuracy: 0.8218\n",
      "Epoch 24/100\n",
      "11094/11094 [==============================] - 1s 102us/step - loss: 0.3909 - accuracy: 0.8246\n",
      "Epoch 25/100\n",
      "11094/11094 [==============================] - 1s 92us/step - loss: 0.3905 - accuracy: 0.8235\n",
      "Epoch 26/100\n",
      "11094/11094 [==============================] - 1s 96us/step - loss: 0.3894 - accuracy: 0.8266\n",
      "Epoch 27/100\n",
      "11094/11094 [==============================] - 1s 91us/step - loss: 0.3879 - accuracy: 0.8269\n",
      "Epoch 28/100\n",
      "11094/11094 [==============================] - 1s 91us/step - loss: 0.3873 - accuracy: 0.8259\n",
      "Epoch 29/100\n",
      "11094/11094 [==============================] - 1s 95us/step - loss: 0.3866 - accuracy: 0.8258\n",
      "Epoch 30/100\n",
      "11094/11094 [==============================] - 1s 95us/step - loss: 0.3865 - accuracy: 0.8256\n",
      "Epoch 31/100\n",
      "11094/11094 [==============================] - 1s 105us/step - loss: 0.3854 - accuracy: 0.8259\n",
      "Epoch 32/100\n",
      "11094/11094 [==============================] - 1s 93us/step - loss: 0.3856 - accuracy: 0.8251\n",
      "Epoch 33/100\n",
      "11094/11094 [==============================] - 1s 91us/step - loss: 0.3844 - accuracy: 0.8270\n",
      "Epoch 34/100\n",
      "11094/11094 [==============================] - 1s 93us/step - loss: 0.3834 - accuracy: 0.8286\n",
      "Epoch 35/100\n",
      "11094/11094 [==============================] - 1s 88us/step - loss: 0.3831 - accuracy: 0.8282\n",
      "Epoch 36/100\n",
      "11094/11094 [==============================] - 1s 92us/step - loss: 0.3826 - accuracy: 0.8307\n",
      "Epoch 37/100\n",
      "11094/11094 [==============================] - 1s 92us/step - loss: 0.3818 - accuracy: 0.8287\n",
      "Epoch 38/100\n",
      "11094/11094 [==============================] - 1s 91us/step - loss: 0.3821 - accuracy: 0.8281\n",
      "Epoch 39/100\n",
      "11094/11094 [==============================] - 1s 91us/step - loss: 0.3812 - accuracy: 0.8285\n",
      "Epoch 40/100\n",
      "11094/11094 [==============================] - 1s 90us/step - loss: 0.3805 - accuracy: 0.8284\n",
      "Epoch 41/100\n",
      "11094/11094 [==============================] - 1s 91us/step - loss: 0.3805 - accuracy: 0.8309\n",
      "Epoch 42/100\n",
      "11094/11094 [==============================] - 1s 90us/step - loss: 0.3803 - accuracy: 0.8284\n",
      "Epoch 43/100\n",
      "11094/11094 [==============================] - 1s 91us/step - loss: 0.3805 - accuracy: 0.8300\n",
      "Epoch 44/100\n",
      "11094/11094 [==============================] - 1s 92us/step - loss: 0.3799 - accuracy: 0.8289\n",
      "Epoch 45/100\n",
      "11094/11094 [==============================] - 1s 90us/step - loss: 0.3804 - accuracy: 0.8292\n",
      "Epoch 46/100\n",
      "11094/11094 [==============================] - 1s 93us/step - loss: 0.3792 - accuracy: 0.8306\n",
      "Epoch 47/100\n",
      "11094/11094 [==============================] - 1s 123us/step - loss: 0.3794 - accuracy: 0.8293\n",
      "Epoch 48/100\n",
      "11094/11094 [==============================] - 1s 110us/step - loss: 0.3787 - accuracy: 0.8281\n",
      "Epoch 49/100\n",
      "11094/11094 [==============================] - 1s 122us/step - loss: 0.3796 - accuracy: 0.8280\n",
      "Epoch 50/100\n",
      "11094/11094 [==============================] - 1s 106us/step - loss: 0.3780 - accuracy: 0.8308\n",
      "Epoch 51/100\n",
      "11094/11094 [==============================] - 1s 108us/step - loss: 0.3787 - accuracy: 0.8289\n",
      "Epoch 52/100\n",
      "11094/11094 [==============================] - 1s 126us/step - loss: 0.3789 - accuracy: 0.8281\n",
      "Epoch 53/100\n",
      "11094/11094 [==============================] - 1s 115us/step - loss: 0.3785 - accuracy: 0.8318\n",
      "Epoch 54/100\n",
      "11094/11094 [==============================] - 1s 94us/step - loss: 0.3788 - accuracy: 0.8293\n",
      "Epoch 55/100\n",
      "11094/11094 [==============================] - 1s 91us/step - loss: 0.3772 - accuracy: 0.8318\n",
      "Epoch 56/100\n",
      "11094/11094 [==============================] - 1s 92us/step - loss: 0.3773 - accuracy: 0.8277\n",
      "Epoch 57/100\n",
      "11094/11094 [==============================] - 1s 91us/step - loss: 0.3776 - accuracy: 0.8295\n",
      "Epoch 58/100\n",
      "11094/11094 [==============================] - 1s 89us/step - loss: 0.3784 - accuracy: 0.8290\n",
      "Epoch 59/100\n",
      "11094/11094 [==============================] - 1s 91us/step - loss: 0.3761 - accuracy: 0.8289\n",
      "Epoch 60/100\n",
      "11094/11094 [==============================] - 1s 91us/step - loss: 0.3760 - accuracy: 0.8307\n",
      "Epoch 61/100\n",
      "11094/11094 [==============================] - 1s 91us/step - loss: 0.3749 - accuracy: 0.8302\n",
      "Epoch 62/100\n",
      "11094/11094 [==============================] - 1s 90us/step - loss: 0.3732 - accuracy: 0.8262\n",
      "Epoch 63/100\n",
      "11094/11094 [==============================] - 1s 92us/step - loss: 0.3723 - accuracy: 0.8330\n",
      "Epoch 64/100\n",
      "11094/11094 [==============================] - 1s 91us/step - loss: 0.3703 - accuracy: 0.8314\n",
      "Epoch 65/100\n",
      "11094/11094 [==============================] - 1s 94us/step - loss: 0.3698 - accuracy: 0.8331 \n",
      "Epoch 66/100\n",
      "11094/11094 [==============================] - 1s 91us/step - loss: 0.3678 - accuracy: 0.8323\n",
      "Epoch 67/100\n",
      "11094/11094 [==============================] - 1s 90us/step - loss: 0.3669 - accuracy: 0.8365\n",
      "Epoch 68/100\n",
      "11094/11094 [==============================] - 1s 108us/step - loss: 0.3661 - accuracy: 0.8340\n",
      "Epoch 69/100\n",
      "11094/11094 [==============================] - 1s 101us/step - loss: 0.3665 - accuracy: 0.8337\n",
      "Epoch 70/100\n",
      "11094/11094 [==============================] - 1s 95us/step - loss: 0.3651 - accuracy: 0.8341\n",
      "Epoch 71/100\n",
      "11094/11094 [==============================] - 1s 97us/step - loss: 0.3647 - accuracy: 0.8378\n",
      "Epoch 72/100\n",
      "11094/11094 [==============================] - 1s 96us/step - loss: 0.3631 - accuracy: 0.8364\n",
      "Epoch 73/100\n",
      "11094/11094 [==============================] - 1s 98us/step - loss: 0.3629 - accuracy: 0.8361\n",
      "Epoch 74/100\n",
      "11094/11094 [==============================] - 1s 94us/step - loss: 0.3627 - accuracy: 0.8336\n",
      "Epoch 75/100\n",
      "11094/11094 [==============================] - 1s 110us/step - loss: 0.3632 - accuracy: 0.8350\n",
      "Epoch 76/100\n",
      "11094/11094 [==============================] - 1s 96us/step - loss: 0.3602 - accuracy: 0.8411\n",
      "Epoch 77/100\n"
     ]
    },
    {
     "name": "stdout",
     "output_type": "stream",
     "text": [
      "11094/11094 [==============================] - 1s 98us/step - loss: 0.3607 - accuracy: 0.8384\n",
      "Epoch 78/100\n",
      "11094/11094 [==============================] - 1s 97us/step - loss: 0.3601 - accuracy: 0.8380\n",
      "Epoch 79/100\n",
      "11094/11094 [==============================] - 1s 106us/step - loss: 0.3602 - accuracy: 0.8385\n",
      "Epoch 80/100\n",
      "11094/11094 [==============================] - 1s 103us/step - loss: 0.3599 - accuracy: 0.8367\n",
      "Epoch 81/100\n",
      "11094/11094 [==============================] - 1s 101us/step - loss: 0.3588 - accuracy: 0.83670s\n",
      "Epoch 82/100\n",
      "11094/11094 [==============================] - 1s 98us/step - loss: 0.3582 - accuracy: 0.8419\n",
      "Epoch 83/100\n",
      "11094/11094 [==============================] - 1s 105us/step - loss: 0.3592 - accuracy: 0.8396\n",
      "Epoch 84/100\n",
      "11094/11094 [==============================] - 1s 103us/step - loss: 0.3572 - accuracy: 0.8392\n",
      "Epoch 85/100\n",
      "11094/11094 [==============================] - 1s 102us/step - loss: 0.3581 - accuracy: 0.8380\n",
      "Epoch 86/100\n",
      "11094/11094 [==============================] - 1s 103us/step - loss: 0.3573 - accuracy: 0.8414\n",
      "Epoch 87/100\n",
      "11094/11094 [==============================] - 1s 98us/step - loss: 0.3569 - accuracy: 0.8384\n",
      "Epoch 88/100\n",
      "11094/11094 [==============================] - 1s 91us/step - loss: 0.3574 - accuracy: 0.8397\n",
      "Epoch 89/100\n",
      "11094/11094 [==============================] - 1s 89us/step - loss: 0.3566 - accuracy: 0.8402\n",
      "Epoch 90/100\n",
      "11094/11094 [==============================] - 1s 91us/step - loss: 0.3563 - accuracy: 0.8407\n",
      "Epoch 91/100\n",
      "11094/11094 [==============================] - 1s 90us/step - loss: 0.3559 - accuracy: 0.8404\n",
      "Epoch 92/100\n",
      "11094/11094 [==============================] - 1s 96us/step - loss: 0.3545 - accuracy: 0.8426\n",
      "Epoch 93/100\n",
      "11094/11094 [==============================] - 1s 106us/step - loss: 0.3553 - accuracy: 0.8405\n",
      "Epoch 94/100\n",
      "11094/11094 [==============================] - 1s 99us/step - loss: 0.3555 - accuracy: 0.8409\n",
      "Epoch 95/100\n",
      "11094/11094 [==============================] - 1s 101us/step - loss: 0.3538 - accuracy: 0.8413\n",
      "Epoch 96/100\n",
      "11094/11094 [==============================] - 1s 108us/step - loss: 0.3556 - accuracy: 0.8387\n",
      "Epoch 97/100\n",
      "11094/11094 [==============================] - 1s 114us/step - loss: 0.3549 - accuracy: 0.8416\n",
      "Epoch 98/100\n",
      "11094/11094 [==============================] - 1s 113us/step - loss: 0.3542 - accuracy: 0.8431\n",
      "Epoch 99/100\n",
      "11094/11094 [==============================] - 1s 112us/step - loss: 0.3530 - accuracy: 0.8413\n",
      "Epoch 100/100\n",
      "11094/11094 [==============================] - 1s 121us/step - loss: 0.3540 - accuracy: 0.8412\n"
     ]
    },
    {
     "data": {
      "text/plain": [
       "<keras.callbacks.callbacks.History at 0x20fb86f6288>"
      ]
     },
     "execution_count": 50,
     "metadata": {},
     "output_type": "execute_result"
    }
   ],
   "source": [
    "classification.fit(X_train_skl, y_train_smt,batch_size=10, epochs=100 )"
   ]
  },
  {
   "cell_type": "code",
   "execution_count": 51,
   "metadata": {},
   "outputs": [],
   "source": [
    "y_pred=classification.predict(X_test_skl)"
   ]
  },
  {
   "cell_type": "code",
   "execution_count": 52,
   "metadata": {},
   "outputs": [],
   "source": [
    "pred=[]\n",
    "for i in y_pred:\n",
    "    if i >0.5:\n",
    "        pred.append(1)\n",
    "    else:\n",
    "        pred.append(0)"
   ]
  },
  {
   "cell_type": "code",
   "execution_count": 53,
   "metadata": {},
   "outputs": [],
   "source": [
    "pred=pd.Series(pred)"
   ]
  },
  {
   "cell_type": "code",
   "execution_count": 54,
   "metadata": {},
   "outputs": [
    {
     "name": "stdout",
     "output_type": "stream",
     "text": [
      "              precision    recall  f1-score   support\n",
      "\n",
      "           0       0.92      0.83      0.87      2416\n",
      "           1       0.50      0.70      0.58       584\n",
      "\n",
      "    accuracy                           0.80      3000\n",
      "   macro avg       0.71      0.76      0.73      3000\n",
      "weighted avg       0.84      0.80      0.81      3000\n",
      "\n"
     ]
    }
   ],
   "source": [
    "print(classification_report(y_test, pred))"
   ]
  },
  {
   "cell_type": "code",
   "execution_count": 55,
   "metadata": {},
   "outputs": [
    {
     "name": "stdout",
     "output_type": "stream",
     "text": [
      "[[2003  413]\n",
      " [ 178  406]]\n"
     ]
    }
   ],
   "source": [
    "print(confusion_matrix(y_test, pred))"
   ]
  },
  {
   "cell_type": "code",
   "execution_count": 56,
   "metadata": {},
   "outputs": [],
   "source": [
    "new_c=np.array(skl.transform([[600,30,3,60000,2,1,1,50000,0,0,1]]))"
   ]
  },
  {
   "cell_type": "code",
   "execution_count": 57,
   "metadata": {},
   "outputs": [],
   "source": [
    "p=classification.predict(new_c)"
   ]
  },
  {
   "cell_type": "code",
   "execution_count": 58,
   "metadata": {},
   "outputs": [
    {
     "data": {
      "text/plain": [
       "array([[False]])"
      ]
     },
     "execution_count": 58,
     "metadata": {},
     "output_type": "execute_result"
    }
   ],
   "source": [
    "p>0.5"
   ]
  },
  {
   "cell_type": "code",
   "execution_count": 59,
   "metadata": {},
   "outputs": [],
   "source": [
    "from sklearn.model_selection import cross_val_score\n",
    "from keras.wrappers.scikit_learn import KerasClassifier"
   ]
  },
  {
   "cell_type": "code",
   "execution_count": 60,
   "metadata": {},
   "outputs": [],
   "source": [
    "def build_classifier():\n",
    "    classification=Sequential()\n",
    "    classification.add(Dense(units=6, input_dim=11,activation='relu', kernel_initializer='uniform'))\n",
    "    classification.add(Dense(units=6,activation='relu', kernel_initializer='uniform'))\n",
    "    classification.add(Dense(units=1,activation='sigmoid', kernel_initializer='uniform'))\n",
    "    classification.compile(optimizer='adam', loss='binary_crossentropy', metrics=['accuracy'])\n",
    "    return classification"
   ]
  },
  {
   "cell_type": "code",
   "execution_count": 61,
   "metadata": {},
   "outputs": [],
   "source": [
    "classifier=KerasClassifier(build_fn=build_classifier, batch_size=10, epochs=100 ) "
   ]
  },
  {
   "cell_type": "code",
   "execution_count": 62,
   "metadata": {},
   "outputs": [],
   "source": [
    "accuracies=cross_val_score(estimator=classifier, X=X_train_skl, y=y_train_smt, n_jobs=4, cv=10, scoring='accuracy')"
   ]
  },
  {
   "cell_type": "code",
   "execution_count": 69,
   "metadata": {},
   "outputs": [
    {
     "name": "stdout",
     "output_type": "stream",
     "text": [
      "CV accuracy 0.83\n"
     ]
    }
   ],
   "source": [
    "print(f\"CV accuracy {accuracies.mean():.2f}\")"
   ]
  },
  {
   "cell_type": "code",
   "execution_count": 76,
   "metadata": {},
   "outputs": [],
   "source": [
    "from keras.layers import Dropout\n",
    "from sklearn.model_selection import GridSearchCV"
   ]
  },
  {
   "cell_type": "code",
   "execution_count": 77,
   "metadata": {},
   "outputs": [],
   "source": [
    "def build_classifier(optimizer):\n",
    "    classification=Sequential()\n",
    "    classification.add(Dense(units=6, input_dim=11,activation='relu', kernel_initializer='uniform'))\n",
    "    classification.add(Dropout(rate=0.1))\n",
    "    classification.add(Dense(units=6,activation='relu', kernel_initializer='uniform'))\n",
    "    classification.add(Dropout(rate=0.1))\n",
    "    classification.add(Dense(units=1,activation='sigmoid', kernel_initializer='uniform'))\n",
    "    classification.compile(optimizer=optimizer, loss='binary_crossentropy', metrics=['accuracy'])\n",
    "    return classification"
   ]
  },
  {
   "cell_type": "code",
   "execution_count": 78,
   "metadata": {},
   "outputs": [],
   "source": [
    "classifier=KerasClassifier(build_fn=build_classifier) "
   ]
  },
  {
   "cell_type": "code",
   "execution_count": 79,
   "metadata": {},
   "outputs": [],
   "source": [
    "param={'batch_size':[32,64], 'epochs':[100,500], 'optimizer':['adam','rmsprop'] }"
   ]
  },
  {
   "cell_type": "code",
   "execution_count": 80,
   "metadata": {},
   "outputs": [],
   "source": [
    "gd_cv=GridSearchCV(estimator=classifier, param_grid=param, n_jobs=4, cv=10, return_train_score=True, scoring='accuracy')"
   ]
  },
  {
   "cell_type": "code",
   "execution_count": 81,
   "metadata": {
    "scrolled": true
   },
   "outputs": [
    {
     "name": "stderr",
     "output_type": "stream",
     "text": [
      "C:\\Users\\bishw\\Anaconda3\\lib\\site-packages\\joblib\\externals\\loky\\process_executor.py:706: UserWarning: A worker stopped while some jobs were given to the executor. This can be caused by a too short worker timeout or by a memory leak.\n",
      "  \"timeout or by a memory leak.\", UserWarning\n"
     ]
    },
    {
     "name": "stdout",
     "output_type": "stream",
     "text": [
      "Epoch 1/500\n",
      "11094/11094 [==============================] - 0s 36us/step - loss: 0.6325 - accuracy: 0.6751\n",
      "Epoch 2/500\n",
      "11094/11094 [==============================] - 0s 25us/step - loss: 0.5577 - accuracy: 0.7295\n",
      "Epoch 3/500\n",
      "11094/11094 [==============================] - 0s 25us/step - loss: 0.5460 - accuracy: 0.7381\n",
      "Epoch 4/500\n",
      "11094/11094 [==============================] - 0s 25us/step - loss: 0.5339 - accuracy: 0.7414\n",
      "Epoch 5/500\n",
      "11094/11094 [==============================] - 0s 25us/step - loss: 0.5292 - accuracy: 0.7499\n",
      "Epoch 6/500\n",
      "11094/11094 [==============================] - 0s 25us/step - loss: 0.5279 - accuracy: 0.7441\n",
      "Epoch 7/500\n",
      "11094/11094 [==============================] - 0s 25us/step - loss: 0.5204 - accuracy: 0.7516\n",
      "Epoch 8/500\n",
      "11094/11094 [==============================] - 0s 25us/step - loss: 0.5210 - accuracy: 0.7509 0s - loss: 0.5288 - accura\n",
      "Epoch 9/500\n",
      "11094/11094 [==============================] - 0s 25us/step - loss: 0.5207 - accuracy: 0.7528\n",
      "Epoch 10/500\n",
      "11094/11094 [==============================] - 0s 25us/step - loss: 0.5210 - accuracy: 0.7532\n",
      "Epoch 11/500\n",
      "11094/11094 [==============================] - 0s 25us/step - loss: 0.5197 - accuracy: 0.7510\n",
      "Epoch 12/500\n",
      "11094/11094 [==============================] - 0s 25us/step - loss: 0.5199 - accuracy: 0.7505\n",
      "Epoch 13/500\n",
      "11094/11094 [==============================] - 0s 25us/step - loss: 0.5194 - accuracy: 0.7506\n",
      "Epoch 14/500\n",
      "11094/11094 [==============================] - 0s 25us/step - loss: 0.5139 - accuracy: 0.7540\n",
      "Epoch 15/500\n",
      "11094/11094 [==============================] - 0s 25us/step - loss: 0.5102 - accuracy: 0.7546\n",
      "Epoch 16/500\n",
      "11094/11094 [==============================] - 0s 26us/step - loss: 0.5101 - accuracy: 0.7591\n",
      "Epoch 17/500\n",
      "11094/11094 [==============================] - 0s 35us/step - loss: 0.5076 - accuracy: 0.7572\n",
      "Epoch 18/500\n",
      "11094/11094 [==============================] - 0s 27us/step - loss: 0.5074 - accuracy: 0.7571\n",
      "Epoch 19/500\n",
      "11094/11094 [==============================] - 0s 26us/step - loss: 0.5027 - accuracy: 0.7604\n",
      "Epoch 20/500\n",
      "11094/11094 [==============================] - 0s 26us/step - loss: 0.4983 - accuracy: 0.7639\n",
      "Epoch 21/500\n",
      "11094/11094 [==============================] - 0s 26us/step - loss: 0.4923 - accuracy: 0.7639\n",
      "Epoch 22/500\n",
      "11094/11094 [==============================] - 0s 27us/step - loss: 0.4888 - accuracy: 0.7673\n",
      "Epoch 23/500\n",
      "11094/11094 [==============================] - 0s 30us/step - loss: 0.4901 - accuracy: 0.7672\n",
      "Epoch 24/500\n",
      "11094/11094 [==============================] - 0s 30us/step - loss: 0.4927 - accuracy: 0.7688\n",
      "Epoch 25/500\n",
      "11094/11094 [==============================] - 0s 30us/step - loss: 0.4878 - accuracy: 0.7708\n",
      "Epoch 26/500\n",
      "11094/11094 [==============================] - 0s 27us/step - loss: 0.4842 - accuracy: 0.7695\n",
      "Epoch 27/500\n",
      "11094/11094 [==============================] - 0s 26us/step - loss: 0.4817 - accuracy: 0.7719\n",
      "Epoch 28/500\n",
      "11094/11094 [==============================] - 0s 26us/step - loss: 0.4833 - accuracy: 0.7720\n",
      "Epoch 29/500\n",
      "11094/11094 [==============================] - 0s 27us/step - loss: 0.4798 - accuracy: 0.7765\n",
      "Epoch 30/500\n",
      "11094/11094 [==============================] - 0s 26us/step - loss: 0.4800 - accuracy: 0.7752\n",
      "Epoch 31/500\n",
      "11094/11094 [==============================] - 0s 26us/step - loss: 0.4789 - accuracy: 0.7736\n",
      "Epoch 32/500\n",
      "11094/11094 [==============================] - 0s 26us/step - loss: 0.4818 - accuracy: 0.7759\n",
      "Epoch 33/500\n",
      "11094/11094 [==============================] - 0s 26us/step - loss: 0.4779 - accuracy: 0.7759\n",
      "Epoch 34/500\n",
      "11094/11094 [==============================] - 0s 27us/step - loss: 0.4777 - accuracy: 0.7744\n",
      "Epoch 35/500\n",
      "11094/11094 [==============================] - 0s 27us/step - loss: 0.4780 - accuracy: 0.7736\n",
      "Epoch 36/500\n",
      "11094/11094 [==============================] - 0s 30us/step - loss: 0.4783 - accuracy: 0.7749\n",
      "Epoch 37/500\n",
      "11094/11094 [==============================] - 0s 26us/step - loss: 0.4727 - accuracy: 0.7765\n",
      "Epoch 38/500\n",
      "11094/11094 [==============================] - 0s 26us/step - loss: 0.4727 - accuracy: 0.7732\n",
      "Epoch 39/500\n",
      "11094/11094 [==============================] - 0s 26us/step - loss: 0.4765 - accuracy: 0.7774\n",
      "Epoch 40/500\n",
      "11094/11094 [==============================] - 0s 27us/step - loss: 0.4750 - accuracy: 0.7742\n",
      "Epoch 41/500\n",
      "11094/11094 [==============================] - 0s 26us/step - loss: 0.4741 - accuracy: 0.7752\n",
      "Epoch 42/500\n",
      "11094/11094 [==============================] - 0s 27us/step - loss: 0.4719 - accuracy: 0.7756\n",
      "Epoch 43/500\n",
      "11094/11094 [==============================] - 0s 27us/step - loss: 0.4718 - accuracy: 0.7806\n",
      "Epoch 44/500\n",
      "11094/11094 [==============================] - 0s 27us/step - loss: 0.4754 - accuracy: 0.7753\n",
      "Epoch 45/500\n",
      "11094/11094 [==============================] - 0s 26us/step - loss: 0.4703 - accuracy: 0.7783\n",
      "Epoch 46/500\n",
      "11094/11094 [==============================] - 0s 26us/step - loss: 0.4671 - accuracy: 0.7769\n",
      "Epoch 47/500\n",
      "11094/11094 [==============================] - 0s 27us/step - loss: 0.4716 - accuracy: 0.7763\n",
      "Epoch 48/500\n",
      "11094/11094 [==============================] - 0s 26us/step - loss: 0.4694 - accuracy: 0.7742\n",
      "Epoch 49/500\n",
      "11094/11094 [==============================] - 0s 26us/step - loss: 0.4696 - accuracy: 0.7768\n",
      "Epoch 50/500\n",
      "11094/11094 [==============================] - 0s 31us/step - loss: 0.4692 - accuracy: 0.7769\n",
      "Epoch 51/500\n",
      "11094/11094 [==============================] - 0s 26us/step - loss: 0.4758 - accuracy: 0.7711\n",
      "Epoch 52/500\n",
      "11094/11094 [==============================] - 0s 26us/step - loss: 0.4690 - accuracy: 0.7800\n",
      "Epoch 53/500\n",
      "11094/11094 [==============================] - 0s 26us/step - loss: 0.4727 - accuracy: 0.7765\n",
      "Epoch 54/500\n",
      "11094/11094 [==============================] - 0s 27us/step - loss: 0.4704 - accuracy: 0.7768\n",
      "Epoch 55/500\n",
      "11094/11094 [==============================] - 0s 29us/step - loss: 0.4711 - accuracy: 0.7773\n",
      "Epoch 56/500\n",
      "11094/11094 [==============================] - 0s 27us/step - loss: 0.4690 - accuracy: 0.7781\n",
      "Epoch 57/500\n",
      "11094/11094 [==============================] - 0s 27us/step - loss: 0.4697 - accuracy: 0.7776\n",
      "Epoch 58/500\n",
      "11094/11094 [==============================] - 0s 27us/step - loss: 0.4666 - accuracy: 0.7767\n",
      "Epoch 59/500\n",
      "11094/11094 [==============================] - 0s 27us/step - loss: 0.4644 - accuracy: 0.7820\n",
      "Epoch 60/500\n",
      "11094/11094 [==============================] - 0s 30us/step - loss: 0.4607 - accuracy: 0.7800\n",
      "Epoch 61/500\n",
      "11094/11094 [==============================] - 0s 26us/step - loss: 0.4662 - accuracy: 0.7797\n",
      "Epoch 62/500\n",
      "11094/11094 [==============================] - 0s 27us/step - loss: 0.4707 - accuracy: 0.7780\n",
      "Epoch 63/500\n",
      "11094/11094 [==============================] - 0s 27us/step - loss: 0.4635 - accuracy: 0.7819\n",
      "Epoch 64/500\n",
      "11094/11094 [==============================] - 0s 30us/step - loss: 0.4668 - accuracy: 0.7793\n",
      "Epoch 65/500\n",
      "11094/11094 [==============================] - 0s 28us/step - loss: 0.4663 - accuracy: 0.7783\n",
      "Epoch 66/500\n",
      "11094/11094 [==============================] - 0s 27us/step - loss: 0.4696 - accuracy: 0.7769\n",
      "Epoch 67/500\n",
      "11094/11094 [==============================] - 0s 26us/step - loss: 0.4691 - accuracy: 0.7809\n",
      "Epoch 68/500\n",
      "11094/11094 [==============================] - 0s 26us/step - loss: 0.4654 - accuracy: 0.7822\n",
      "Epoch 69/500\n",
      "11094/11094 [==============================] - 0s 27us/step - loss: 0.4622 - accuracy: 0.7758\n",
      "Epoch 70/500\n",
      "11094/11094 [==============================] - 0s 26us/step - loss: 0.4654 - accuracy: 0.7799\n",
      "Epoch 71/500\n",
      "11094/11094 [==============================] - 0s 31us/step - loss: 0.4570 - accuracy: 0.7828\n",
      "Epoch 72/500\n",
      "11094/11094 [==============================] - 0s 27us/step - loss: 0.4636 - accuracy: 0.7832\n",
      "Epoch 73/500\n",
      "11094/11094 [==============================] - 0s 27us/step - loss: 0.4634 - accuracy: 0.7847\n",
      "Epoch 74/500\n",
      "11094/11094 [==============================] - 0s 28us/step - loss: 0.4596 - accuracy: 0.7828\n",
      "Epoch 75/500\n",
      "11094/11094 [==============================] - 0s 27us/step - loss: 0.4634 - accuracy: 0.7825\n",
      "Epoch 76/500\n",
      "11094/11094 [==============================] - 0s 27us/step - loss: 0.4638 - accuracy: 0.7800\n",
      "Epoch 77/500\n"
     ]
    },
    {
     "name": "stdout",
     "output_type": "stream",
     "text": [
      "11094/11094 [==============================] - 0s 26us/step - loss: 0.4617 - accuracy: 0.7813\n",
      "Epoch 78/500\n",
      "11094/11094 [==============================] - 0s 27us/step - loss: 0.4616 - accuracy: 0.7847\n",
      "Epoch 79/500\n",
      "11094/11094 [==============================] - 0s 26us/step - loss: 0.4648 - accuracy: 0.7826\n",
      "Epoch 80/500\n",
      "11094/11094 [==============================] - 0s 26us/step - loss: 0.4610 - accuracy: 0.7841\n",
      "Epoch 81/500\n",
      "11094/11094 [==============================] - 0s 28us/step - loss: 0.4598 - accuracy: 0.7846\n",
      "Epoch 82/500\n",
      "11094/11094 [==============================] - 0s 26us/step - loss: 0.4584 - accuracy: 0.7824\n",
      "Epoch 83/500\n",
      "11094/11094 [==============================] - 0s 26us/step - loss: 0.4596 - accuracy: 0.7861\n",
      "Epoch 84/500\n",
      "11094/11094 [==============================] - 0s 26us/step - loss: 0.4692 - accuracy: 0.7802\n",
      "Epoch 85/500\n",
      "11094/11094 [==============================] - 0s 28us/step - loss: 0.4592 - accuracy: 0.7862\n",
      "Epoch 86/500\n",
      "11094/11094 [==============================] - 0s 26us/step - loss: 0.4627 - accuracy: 0.7829\n",
      "Epoch 87/500\n",
      "11094/11094 [==============================] - 0s 26us/step - loss: 0.4599 - accuracy: 0.7821\n",
      "Epoch 88/500\n",
      "11094/11094 [==============================] - 0s 27us/step - loss: 0.4653 - accuracy: 0.7847\n",
      "Epoch 89/500\n",
      "11094/11094 [==============================] - 0s 28us/step - loss: 0.4667 - accuracy: 0.7796\n",
      "Epoch 90/500\n",
      "11094/11094 [==============================] - 0s 29us/step - loss: 0.4584 - accuracy: 0.7855\n",
      "Epoch 91/500\n",
      "11094/11094 [==============================] - 0s 27us/step - loss: 0.4623 - accuracy: 0.7841\n",
      "Epoch 92/500\n",
      "11094/11094 [==============================] - 0s 27us/step - loss: 0.4566 - accuracy: 0.7874\n",
      "Epoch 93/500\n",
      "11094/11094 [==============================] - 0s 27us/step - loss: 0.4606 - accuracy: 0.7868\n",
      "Epoch 94/500\n",
      "11094/11094 [==============================] - 0s 27us/step - loss: 0.4659 - accuracy: 0.7807\n",
      "Epoch 95/500\n",
      "11094/11094 [==============================] - 0s 27us/step - loss: 0.4625 - accuracy: 0.7845\n",
      "Epoch 96/500\n",
      "11094/11094 [==============================] - 0s 26us/step - loss: 0.4650 - accuracy: 0.7817\n",
      "Epoch 97/500\n",
      "11094/11094 [==============================] - 0s 27us/step - loss: 0.4639 - accuracy: 0.7823\n",
      "Epoch 98/500\n",
      "11094/11094 [==============================] - 0s 27us/step - loss: 0.4578 - accuracy: 0.7868\n",
      "Epoch 99/500\n",
      "11094/11094 [==============================] - 0s 29us/step - loss: 0.4645 - accuracy: 0.7823\n",
      "Epoch 100/500\n",
      "11094/11094 [==============================] - 0s 32us/step - loss: 0.4615 - accuracy: 0.7840\n",
      "Epoch 101/500\n",
      "11094/11094 [==============================] - 0s 31us/step - loss: 0.4678 - accuracy: 0.7768\n",
      "Epoch 102/500\n",
      "11094/11094 [==============================] - 0s 30us/step - loss: 0.4631 - accuracy: 0.7859\n",
      "Epoch 103/500\n",
      "11094/11094 [==============================] - 0s 29us/step - loss: 0.4622 - accuracy: 0.7829\n",
      "Epoch 104/500\n",
      "11094/11094 [==============================] - 0s 26us/step - loss: 0.4626 - accuracy: 0.7865\n",
      "Epoch 105/500\n",
      "11094/11094 [==============================] - 0s 26us/step - loss: 0.4594 - accuracy: 0.7843\n",
      "Epoch 106/500\n",
      "11094/11094 [==============================] - 0s 29us/step - loss: 0.4635 - accuracy: 0.7814\n",
      "Epoch 107/500\n",
      "11094/11094 [==============================] - 0s 26us/step - loss: 0.4619 - accuracy: 0.7860\n",
      "Epoch 108/500\n",
      "11094/11094 [==============================] - 0s 27us/step - loss: 0.4591 - accuracy: 0.7849\n",
      "Epoch 109/500\n",
      "11094/11094 [==============================] - 0s 29us/step - loss: 0.4648 - accuracy: 0.7849\n",
      "Epoch 110/500\n",
      "11094/11094 [==============================] - 0s 28us/step - loss: 0.4604 - accuracy: 0.7821\n",
      "Epoch 111/500\n",
      "11094/11094 [==============================] - 0s 29us/step - loss: 0.4633 - accuracy: 0.7875\n",
      "Epoch 112/500\n",
      "11094/11094 [==============================] - 0s 27us/step - loss: 0.4619 - accuracy: 0.7847\n",
      "Epoch 113/500\n",
      "11094/11094 [==============================] - 0s 26us/step - loss: 0.4584 - accuracy: 0.7879\n",
      "Epoch 114/500\n",
      "11094/11094 [==============================] - 0s 27us/step - loss: 0.4656 - accuracy: 0.7813\n",
      "Epoch 115/500\n",
      "11094/11094 [==============================] - 0s 26us/step - loss: 0.4631 - accuracy: 0.7835\n",
      "Epoch 116/500\n",
      "11094/11094 [==============================] - 0s 29us/step - loss: 0.4628 - accuracy: 0.7860\n",
      "Epoch 117/500\n",
      "11094/11094 [==============================] - 0s 27us/step - loss: 0.4572 - accuracy: 0.7896\n",
      "Epoch 118/500\n",
      "11094/11094 [==============================] - 0s 26us/step - loss: 0.4597 - accuracy: 0.7844\n",
      "Epoch 119/500\n",
      "11094/11094 [==============================] - 0s 27us/step - loss: 0.4671 - accuracy: 0.7817\n",
      "Epoch 120/500\n",
      "11094/11094 [==============================] - 0s 27us/step - loss: 0.4620 - accuracy: 0.7831\n",
      "Epoch 121/500\n",
      "11094/11094 [==============================] - 0s 26us/step - loss: 0.4611 - accuracy: 0.7855\n",
      "Epoch 122/500\n",
      "11094/11094 [==============================] - 0s 27us/step - loss: 0.4608 - accuracy: 0.7857\n",
      "Epoch 123/500\n",
      "11094/11094 [==============================] - 0s 27us/step - loss: 0.4664 - accuracy: 0.7827\n",
      "Epoch 124/500\n",
      "11094/11094 [==============================] - 0s 28us/step - loss: 0.4644 - accuracy: 0.7847\n",
      "Epoch 125/500\n",
      "11094/11094 [==============================] - 0s 28us/step - loss: 0.4560 - accuracy: 0.7862\n",
      "Epoch 126/500\n",
      "11094/11094 [==============================] - 0s 28us/step - loss: 0.4590 - accuracy: 0.7847\n",
      "Epoch 127/500\n",
      "11094/11094 [==============================] - 0s 29us/step - loss: 0.4648 - accuracy: 0.7830\n",
      "Epoch 128/500\n",
      "11094/11094 [==============================] - 0s 26us/step - loss: 0.4570 - accuracy: 0.7866\n",
      "Epoch 129/500\n",
      "11094/11094 [==============================] - 0s 26us/step - loss: 0.4585 - accuracy: 0.7852\n",
      "Epoch 130/500\n",
      "11094/11094 [==============================] - 0s 28us/step - loss: 0.4620 - accuracy: 0.7849\n",
      "Epoch 131/500\n",
      "11094/11094 [==============================] - 0s 27us/step - loss: 0.4576 - accuracy: 0.7854\n",
      "Epoch 132/500\n",
      "11094/11094 [==============================] - 0s 26us/step - loss: 0.4614 - accuracy: 0.7862\n",
      "Epoch 133/500\n",
      "11094/11094 [==============================] - 0s 27us/step - loss: 0.4599 - accuracy: 0.7867\n",
      "Epoch 134/500\n",
      "11094/11094 [==============================] - 0s 27us/step - loss: 0.4578 - accuracy: 0.7840\n",
      "Epoch 135/500\n",
      "11094/11094 [==============================] - 0s 27us/step - loss: 0.4626 - accuracy: 0.7837\n",
      "Epoch 136/500\n",
      "11094/11094 [==============================] - 0s 27us/step - loss: 0.4642 - accuracy: 0.7890\n",
      "Epoch 137/500\n",
      "11094/11094 [==============================] - 0s 26us/step - loss: 0.4605 - accuracy: 0.7875\n",
      "Epoch 138/500\n",
      "11094/11094 [==============================] - 0s 26us/step - loss: 0.4576 - accuracy: 0.7875\n",
      "Epoch 139/500\n",
      "11094/11094 [==============================] - 0s 27us/step - loss: 0.4609 - accuracy: 0.7862\n",
      "Epoch 140/500\n",
      "11094/11094 [==============================] - 0s 27us/step - loss: 0.4607 - accuracy: 0.7869\n",
      "Epoch 141/500\n",
      "11094/11094 [==============================] - 0s 29us/step - loss: 0.4580 - accuracy: 0.7861\n",
      "Epoch 142/500\n",
      "11094/11094 [==============================] - 0s 30us/step - loss: 0.4589 - accuracy: 0.7888\n",
      "Epoch 143/500\n",
      "11094/11094 [==============================] - 0s 26us/step - loss: 0.4582 - accuracy: 0.7841\n",
      "Epoch 144/500\n",
      "11094/11094 [==============================] - 0s 26us/step - loss: 0.4559 - accuracy: 0.7894\n",
      "Epoch 145/500\n",
      "11094/11094 [==============================] - 0s 26us/step - loss: 0.4574 - accuracy: 0.7848\n",
      "Epoch 146/500\n",
      "11094/11094 [==============================] - 0s 26us/step - loss: 0.4584 - accuracy: 0.7843\n",
      "Epoch 147/500\n",
      "11094/11094 [==============================] - 0s 26us/step - loss: 0.4616 - accuracy: 0.7826\n",
      "Epoch 148/500\n",
      "11094/11094 [==============================] - 0s 26us/step - loss: 0.4597 - accuracy: 0.7837\n",
      "Epoch 149/500\n",
      "11094/11094 [==============================] - 0s 26us/step - loss: 0.4572 - accuracy: 0.7896\n",
      "Epoch 150/500\n",
      "11094/11094 [==============================] - 0s 26us/step - loss: 0.4594 - accuracy: 0.7892\n",
      "Epoch 151/500\n",
      "11094/11094 [==============================] - 0s 26us/step - loss: 0.4608 - accuracy: 0.7834\n",
      "Epoch 152/500\n",
      "11094/11094 [==============================] - 0s 27us/step - loss: 0.4626 - accuracy: 0.7898\n",
      "Epoch 153/500\n"
     ]
    },
    {
     "name": "stdout",
     "output_type": "stream",
     "text": [
      "11094/11094 [==============================] - 0s 31us/step - loss: 0.4613 - accuracy: 0.7872\n",
      "Epoch 154/500\n",
      "11094/11094 [==============================] - 0s 26us/step - loss: 0.4637 - accuracy: 0.7820\n",
      "Epoch 155/500\n",
      "11094/11094 [==============================] - 0s 34us/step - loss: 0.4540 - accuracy: 0.7913\n",
      "Epoch 156/500\n",
      "11094/11094 [==============================] - 0s 29us/step - loss: 0.4583 - accuracy: 0.7892\n",
      "Epoch 157/500\n",
      "11094/11094 [==============================] - 0s 28us/step - loss: 0.4568 - accuracy: 0.7877\n",
      "Epoch 158/500\n",
      "11094/11094 [==============================] - 0s 26us/step - loss: 0.4563 - accuracy: 0.7880\n",
      "Epoch 159/500\n",
      "11094/11094 [==============================] - 0s 26us/step - loss: 0.4587 - accuracy: 0.7856\n",
      "Epoch 160/500\n",
      "11094/11094 [==============================] - 0s 27us/step - loss: 0.4616 - accuracy: 0.7870\n",
      "Epoch 161/500\n",
      "11094/11094 [==============================] - 0s 26us/step - loss: 0.4628 - accuracy: 0.7868\n",
      "Epoch 162/500\n",
      "11094/11094 [==============================] - 0s 26us/step - loss: 0.4607 - accuracy: 0.7844\n",
      "Epoch 163/500\n",
      "11094/11094 [==============================] - 0s 26us/step - loss: 0.4575 - accuracy: 0.7899\n",
      "Epoch 164/500\n",
      "11094/11094 [==============================] - 0s 27us/step - loss: 0.4555 - accuracy: 0.7904\n",
      "Epoch 165/500\n",
      "11094/11094 [==============================] - 0s 26us/step - loss: 0.4575 - accuracy: 0.7860\n",
      "Epoch 166/500\n",
      "11094/11094 [==============================] - 0s 26us/step - loss: 0.4591 - accuracy: 0.7905\n",
      "Epoch 167/500\n",
      "11094/11094 [==============================] - 0s 28us/step - loss: 0.4575 - accuracy: 0.7893\n",
      "Epoch 168/500\n",
      "11094/11094 [==============================] - 0s 28us/step - loss: 0.4591 - accuracy: 0.7880\n",
      "Epoch 169/500\n",
      "11094/11094 [==============================] - 0s 26us/step - loss: 0.4544 - accuracy: 0.7900\n",
      "Epoch 170/500\n",
      "11094/11094 [==============================] - 0s 27us/step - loss: 0.4566 - accuracy: 0.7917\n",
      "Epoch 171/500\n",
      "11094/11094 [==============================] - 0s 27us/step - loss: 0.4595 - accuracy: 0.7880\n",
      "Epoch 172/500\n",
      "11094/11094 [==============================] - 0s 29us/step - loss: 0.4605 - accuracy: 0.7847\n",
      "Epoch 173/500\n",
      "11094/11094 [==============================] - 0s 29us/step - loss: 0.4536 - accuracy: 0.7909\n",
      "Epoch 174/500\n",
      "11094/11094 [==============================] - 0s 27us/step - loss: 0.4606 - accuracy: 0.7868\n",
      "Epoch 175/500\n",
      "11094/11094 [==============================] - 0s 27us/step - loss: 0.4532 - accuracy: 0.7930\n",
      "Epoch 176/500\n",
      "11094/11094 [==============================] - 0s 30us/step - loss: 0.4578 - accuracy: 0.7876\n",
      "Epoch 177/500\n",
      "11094/11094 [==============================] - 0s 28us/step - loss: 0.4572 - accuracy: 0.7900\n",
      "Epoch 178/500\n",
      "11094/11094 [==============================] - 0s 27us/step - loss: 0.4562 - accuracy: 0.7900\n",
      "Epoch 179/500\n",
      "11094/11094 [==============================] - 0s 27us/step - loss: 0.4564 - accuracy: 0.7887\n",
      "Epoch 180/500\n",
      "11094/11094 [==============================] - 0s 30us/step - loss: 0.4618 - accuracy: 0.7847\n",
      "Epoch 181/500\n",
      "11094/11094 [==============================] - 0s 31us/step - loss: 0.4551 - accuracy: 0.7918\n",
      "Epoch 182/500\n",
      "11094/11094 [==============================] - 0s 31us/step - loss: 0.4608 - accuracy: 0.7881\n",
      "Epoch 183/500\n",
      "11094/11094 [==============================] - 0s 30us/step - loss: 0.4632 - accuracy: 0.7867\n",
      "Epoch 184/500\n",
      "11094/11094 [==============================] - 0s 31us/step - loss: 0.4574 - accuracy: 0.7888\n",
      "Epoch 185/500\n",
      "11094/11094 [==============================] - 0s 31us/step - loss: 0.4529 - accuracy: 0.7915\n",
      "Epoch 186/500\n",
      "11094/11094 [==============================] - 0s 30us/step - loss: 0.4557 - accuracy: 0.7891\n",
      "Epoch 187/500\n",
      "11094/11094 [==============================] - 0s 29us/step - loss: 0.4551 - accuracy: 0.7865\n",
      "Epoch 188/500\n",
      "11094/11094 [==============================] - 0s 28us/step - loss: 0.4601 - accuracy: 0.7864\n",
      "Epoch 189/500\n",
      "11094/11094 [==============================] - 0s 28us/step - loss: 0.4560 - accuracy: 0.7889\n",
      "Epoch 190/500\n",
      "11094/11094 [==============================] - 0s 28us/step - loss: 0.4557 - accuracy: 0.7907\n",
      "Epoch 191/500\n",
      "11094/11094 [==============================] - 0s 28us/step - loss: 0.4556 - accuracy: 0.7859\n",
      "Epoch 192/500\n",
      "11094/11094 [==============================] - 0s 27us/step - loss: 0.4554 - accuracy: 0.7898\n",
      "Epoch 193/500\n",
      "11094/11094 [==============================] - 0s 27us/step - loss: 0.4515 - accuracy: 0.7948\n",
      "Epoch 194/500\n",
      "11094/11094 [==============================] - 0s 27us/step - loss: 0.4566 - accuracy: 0.7903\n",
      "Epoch 195/500\n",
      "11094/11094 [==============================] - 0s 27us/step - loss: 0.4618 - accuracy: 0.7893\n",
      "Epoch 196/500\n",
      "11094/11094 [==============================] - 0s 28us/step - loss: 0.4591 - accuracy: 0.7874\n",
      "Epoch 197/500\n",
      "11094/11094 [==============================] - 0s 27us/step - loss: 0.4520 - accuracy: 0.7926\n",
      "Epoch 198/500\n",
      "11094/11094 [==============================] - 0s 27us/step - loss: 0.4508 - accuracy: 0.7930\n",
      "Epoch 199/500\n",
      "11094/11094 [==============================] - 0s 27us/step - loss: 0.4556 - accuracy: 0.7930\n",
      "Epoch 200/500\n",
      "11094/11094 [==============================] - 0s 28us/step - loss: 0.4492 - accuracy: 0.7948\n",
      "Epoch 201/500\n",
      "11094/11094 [==============================] - 0s 28us/step - loss: 0.4513 - accuracy: 0.7911\n",
      "Epoch 202/500\n",
      "11094/11094 [==============================] - 0s 28us/step - loss: 0.4453 - accuracy: 0.7977\n",
      "Epoch 203/500\n",
      "11094/11094 [==============================] - 0s 27us/step - loss: 0.4580 - accuracy: 0.7890\n",
      "Epoch 204/500\n",
      "11094/11094 [==============================] - 0s 27us/step - loss: 0.4491 - accuracy: 0.7932\n",
      "Epoch 205/500\n",
      "11094/11094 [==============================] - 0s 28us/step - loss: 0.4553 - accuracy: 0.7876\n",
      "Epoch 206/500\n",
      "11094/11094 [==============================] - 0s 28us/step - loss: 0.4540 - accuracy: 0.7902\n",
      "Epoch 207/500\n",
      "11094/11094 [==============================] - 0s 28us/step - loss: 0.4578 - accuracy: 0.7912\n",
      "Epoch 208/500\n",
      "11094/11094 [==============================] - 0s 27us/step - loss: 0.4537 - accuracy: 0.7935\n",
      "Epoch 209/500\n",
      "11094/11094 [==============================] - 0s 27us/step - loss: 0.4553 - accuracy: 0.7917\n",
      "Epoch 210/500\n",
      "11094/11094 [==============================] - 0s 28us/step - loss: 0.4525 - accuracy: 0.7885\n",
      "Epoch 211/500\n",
      "11094/11094 [==============================] - 0s 28us/step - loss: 0.4595 - accuracy: 0.7887\n",
      "Epoch 212/500\n",
      "11094/11094 [==============================] - 0s 27us/step - loss: 0.4556 - accuracy: 0.7911\n",
      "Epoch 213/500\n",
      "11094/11094 [==============================] - 0s 27us/step - loss: 0.4583 - accuracy: 0.7899\n",
      "Epoch 214/500\n",
      "11094/11094 [==============================] - 0s 27us/step - loss: 0.4527 - accuracy: 0.7934\n",
      "Epoch 215/500\n",
      "11094/11094 [==============================] - 0s 27us/step - loss: 0.4546 - accuracy: 0.7890\n",
      "Epoch 216/500\n",
      "11094/11094 [==============================] - 0s 27us/step - loss: 0.4550 - accuracy: 0.7918\n",
      "Epoch 217/500\n",
      "11094/11094 [==============================] - 0s 27us/step - loss: 0.4538 - accuracy: 0.7926\n",
      "Epoch 218/500\n",
      "11094/11094 [==============================] - 0s 27us/step - loss: 0.4549 - accuracy: 0.7941\n",
      "Epoch 219/500\n",
      "11094/11094 [==============================] - 0s 27us/step - loss: 0.4508 - accuracy: 0.7921\n",
      "Epoch 220/500\n",
      "11094/11094 [==============================] - 0s 28us/step - loss: 0.4531 - accuracy: 0.7897\n",
      "Epoch 221/500\n",
      "11094/11094 [==============================] - 0s 27us/step - loss: 0.4523 - accuracy: 0.7953\n",
      "Epoch 222/500\n",
      "11094/11094 [==============================] - 0s 27us/step - loss: 0.4544 - accuracy: 0.7897\n",
      "Epoch 223/500\n",
      "11094/11094 [==============================] - 0s 28us/step - loss: 0.4560 - accuracy: 0.7917\n",
      "Epoch 224/500\n",
      "11094/11094 [==============================] - 0s 27us/step - loss: 0.4535 - accuracy: 0.7920\n",
      "Epoch 225/500\n",
      "11094/11094 [==============================] - 0s 27us/step - loss: 0.4555 - accuracy: 0.7898\n",
      "Epoch 226/500\n",
      "11094/11094 [==============================] - 0s 28us/step - loss: 0.4578 - accuracy: 0.7883\n",
      "Epoch 227/500\n",
      "11094/11094 [==============================] - 0s 27us/step - loss: 0.4562 - accuracy: 0.7892\n",
      "Epoch 228/500\n",
      "11094/11094 [==============================] - 0s 27us/step - loss: 0.4531 - accuracy: 0.7933\n"
     ]
    },
    {
     "name": "stdout",
     "output_type": "stream",
     "text": [
      "Epoch 229/500\n",
      "11094/11094 [==============================] - 0s 28us/step - loss: 0.4552 - accuracy: 0.7875\n",
      "Epoch 230/500\n",
      "11094/11094 [==============================] - 0s 28us/step - loss: 0.4518 - accuracy: 0.7923\n",
      "Epoch 231/500\n",
      "11094/11094 [==============================] - 0s 27us/step - loss: 0.4539 - accuracy: 0.7916\n",
      "Epoch 232/500\n",
      "11094/11094 [==============================] - 0s 27us/step - loss: 0.4557 - accuracy: 0.7890\n",
      "Epoch 233/500\n",
      "11094/11094 [==============================] - 0s 28us/step - loss: 0.4595 - accuracy: 0.7911\n",
      "Epoch 234/500\n",
      "11094/11094 [==============================] - 0s 27us/step - loss: 0.4553 - accuracy: 0.7891\n",
      "Epoch 235/500\n",
      "11094/11094 [==============================] - 0s 28us/step - loss: 0.4554 - accuracy: 0.7923\n",
      "Epoch 236/500\n",
      "11094/11094 [==============================] - 0s 27us/step - loss: 0.4626 - accuracy: 0.7860\n",
      "Epoch 237/500\n",
      "11094/11094 [==============================] - 0s 28us/step - loss: 0.4563 - accuracy: 0.7904\n",
      "Epoch 238/500\n",
      "11094/11094 [==============================] - 0s 27us/step - loss: 0.4505 - accuracy: 0.7933\n",
      "Epoch 239/500\n",
      "11094/11094 [==============================] - 0s 28us/step - loss: 0.4518 - accuracy: 0.7956\n",
      "Epoch 240/500\n",
      "11094/11094 [==============================] - 0s 27us/step - loss: 0.4516 - accuracy: 0.7927\n",
      "Epoch 241/500\n",
      "11094/11094 [==============================] - 0s 27us/step - loss: 0.4579 - accuracy: 0.7884\n",
      "Epoch 242/500\n",
      "11094/11094 [==============================] - 0s 28us/step - loss: 0.4548 - accuracy: 0.7899 0s - loss: 0.4573 - accura\n",
      "Epoch 243/500\n",
      "11094/11094 [==============================] - 0s 26us/step - loss: 0.4545 - accuracy: 0.7922\n",
      "Epoch 244/500\n",
      "11094/11094 [==============================] - 0s 27us/step - loss: 0.4550 - accuracy: 0.7891\n",
      "Epoch 245/500\n",
      "11094/11094 [==============================] - 0s 27us/step - loss: 0.4559 - accuracy: 0.7900\n",
      "Epoch 246/500\n",
      "11094/11094 [==============================] - 0s 27us/step - loss: 0.4532 - accuracy: 0.7927\n",
      "Epoch 247/500\n",
      "11094/11094 [==============================] - 0s 27us/step - loss: 0.4547 - accuracy: 0.7911\n",
      "Epoch 248/500\n",
      "11094/11094 [==============================] - 0s 27us/step - loss: 0.4569 - accuracy: 0.7888\n",
      "Epoch 249/500\n",
      "11094/11094 [==============================] - 0s 27us/step - loss: 0.4532 - accuracy: 0.7934\n",
      "Epoch 250/500\n",
      "11094/11094 [==============================] - 0s 27us/step - loss: 0.4509 - accuracy: 0.7937\n",
      "Epoch 251/500\n",
      "11094/11094 [==============================] - 0s 27us/step - loss: 0.4514 - accuracy: 0.7905\n",
      "Epoch 252/500\n",
      "11094/11094 [==============================] - 0s 27us/step - loss: 0.4527 - accuracy: 0.7918\n",
      "Epoch 253/500\n",
      "11094/11094 [==============================] - 0s 28us/step - loss: 0.4511 - accuracy: 0.7931\n",
      "Epoch 254/500\n",
      "11094/11094 [==============================] - 0s 28us/step - loss: 0.4517 - accuracy: 0.7925\n",
      "Epoch 255/500\n",
      "11094/11094 [==============================] - 0s 28us/step - loss: 0.4506 - accuracy: 0.7918\n",
      "Epoch 256/500\n",
      "11094/11094 [==============================] - 0s 28us/step - loss: 0.4525 - accuracy: 0.7933\n",
      "Epoch 257/500\n",
      "11094/11094 [==============================] - 0s 27us/step - loss: 0.4536 - accuracy: 0.7912\n",
      "Epoch 258/500\n",
      "11094/11094 [==============================] - 0s 27us/step - loss: 0.4532 - accuracy: 0.7912\n",
      "Epoch 259/500\n",
      "11094/11094 [==============================] - 0s 27us/step - loss: 0.4495 - accuracy: 0.7928\n",
      "Epoch 260/500\n",
      "11094/11094 [==============================] - 0s 28us/step - loss: 0.4584 - accuracy: 0.7886\n",
      "Epoch 261/500\n",
      "11094/11094 [==============================] - 0s 27us/step - loss: 0.4558 - accuracy: 0.7920\n",
      "Epoch 262/500\n",
      "11094/11094 [==============================] - 0s 27us/step - loss: 0.4566 - accuracy: 0.7886\n",
      "Epoch 263/500\n",
      "11094/11094 [==============================] - 0s 27us/step - loss: 0.4526 - accuracy: 0.7938\n",
      "Epoch 264/500\n",
      "11094/11094 [==============================] - 0s 31us/step - loss: 0.4537 - accuracy: 0.7910\n",
      "Epoch 265/500\n",
      "11094/11094 [==============================] - 0s 29us/step - loss: 0.4533 - accuracy: 0.7943\n",
      "Epoch 266/500\n",
      "11094/11094 [==============================] - 0s 27us/step - loss: 0.4538 - accuracy: 0.7902\n",
      "Epoch 267/500\n",
      "11094/11094 [==============================] - 0s 27us/step - loss: 0.4481 - accuracy: 0.7961\n",
      "Epoch 268/500\n",
      "11094/11094 [==============================] - 0s 27us/step - loss: 0.4529 - accuracy: 0.7918\n",
      "Epoch 269/500\n",
      "11094/11094 [==============================] - 0s 28us/step - loss: 0.4477 - accuracy: 0.7951\n",
      "Epoch 270/500\n",
      "11094/11094 [==============================] - 0s 27us/step - loss: 0.4532 - accuracy: 0.7938\n",
      "Epoch 271/500\n",
      "11094/11094 [==============================] - 0s 28us/step - loss: 0.4552 - accuracy: 0.7917\n",
      "Epoch 272/500\n",
      "11094/11094 [==============================] - 0s 28us/step - loss: 0.4574 - accuracy: 0.7917\n",
      "Epoch 273/500\n",
      "11094/11094 [==============================] - 0s 27us/step - loss: 0.4522 - accuracy: 0.7954\n",
      "Epoch 274/500\n",
      "11094/11094 [==============================] - 0s 27us/step - loss: 0.4534 - accuracy: 0.7941\n",
      "Epoch 275/500\n",
      "11094/11094 [==============================] - 0s 27us/step - loss: 0.4530 - accuracy: 0.7909\n",
      "Epoch 276/500\n",
      "11094/11094 [==============================] - 0s 27us/step - loss: 0.4504 - accuracy: 0.7946\n",
      "Epoch 277/500\n",
      "11094/11094 [==============================] - 0s 27us/step - loss: 0.4530 - accuracy: 0.7884\n",
      "Epoch 278/500\n",
      "11094/11094 [==============================] - 0s 28us/step - loss: 0.4538 - accuracy: 0.7909\n",
      "Epoch 279/500\n",
      "11094/11094 [==============================] - 0s 28us/step - loss: 0.4567 - accuracy: 0.7898 0s - loss: 0.4453 - accura\n",
      "Epoch 280/500\n",
      "11094/11094 [==============================] - 0s 27us/step - loss: 0.4533 - accuracy: 0.7899\n",
      "Epoch 281/500\n",
      "11094/11094 [==============================] - 0s 28us/step - loss: 0.4569 - accuracy: 0.7892\n",
      "Epoch 282/500\n",
      "11094/11094 [==============================] - 0s 28us/step - loss: 0.4485 - accuracy: 0.7963\n",
      "Epoch 283/500\n",
      "11094/11094 [==============================] - 0s 28us/step - loss: 0.4591 - accuracy: 0.7902\n",
      "Epoch 284/500\n",
      "11094/11094 [==============================] - 0s 28us/step - loss: 0.4510 - accuracy: 0.7944\n",
      "Epoch 285/500\n",
      "11094/11094 [==============================] - 0s 28us/step - loss: 0.4533 - accuracy: 0.7920\n",
      "Epoch 286/500\n",
      "11094/11094 [==============================] - 0s 29us/step - loss: 0.4554 - accuracy: 0.7930\n",
      "Epoch 287/500\n",
      "11094/11094 [==============================] - 0s 28us/step - loss: 0.4561 - accuracy: 0.7902\n",
      "Epoch 288/500\n",
      "11094/11094 [==============================] - 0s 29us/step - loss: 0.4476 - accuracy: 0.7975\n",
      "Epoch 289/500\n",
      "11094/11094 [==============================] - 0s 29us/step - loss: 0.4516 - accuracy: 0.7918\n",
      "Epoch 290/500\n",
      "11094/11094 [==============================] - 0s 28us/step - loss: 0.4506 - accuracy: 0.7926\n",
      "Epoch 291/500\n",
      "11094/11094 [==============================] - 0s 29us/step - loss: 0.4539 - accuracy: 0.7911\n",
      "Epoch 292/500\n",
      "11094/11094 [==============================] - 0s 28us/step - loss: 0.4547 - accuracy: 0.7914\n",
      "Epoch 293/500\n",
      "11094/11094 [==============================] - 0s 28us/step - loss: 0.4514 - accuracy: 0.7915\n",
      "Epoch 294/500\n",
      "11094/11094 [==============================] - 0s 28us/step - loss: 0.4490 - accuracy: 0.7949\n",
      "Epoch 295/500\n",
      "11094/11094 [==============================] - 0s 28us/step - loss: 0.4577 - accuracy: 0.7922\n",
      "Epoch 296/500\n",
      "11094/11094 [==============================] - 0s 28us/step - loss: 0.4450 - accuracy: 0.7956\n",
      "Epoch 297/500\n",
      "11094/11094 [==============================] - 0s 28us/step - loss: 0.4514 - accuracy: 0.7938\n",
      "Epoch 298/500\n",
      "11094/11094 [==============================] - 0s 28us/step - loss: 0.4546 - accuracy: 0.7931\n",
      "Epoch 299/500\n",
      "11094/11094 [==============================] - 0s 27us/step - loss: 0.4550 - accuracy: 0.7893\n",
      "Epoch 300/500\n",
      "11094/11094 [==============================] - 0s 27us/step - loss: 0.4539 - accuracy: 0.7936\n",
      "Epoch 301/500\n",
      "11094/11094 [==============================] - 0s 27us/step - loss: 0.4544 - accuracy: 0.7895\n",
      "Epoch 302/500\n",
      "11094/11094 [==============================] - 0s 27us/step - loss: 0.4522 - accuracy: 0.7914\n",
      "Epoch 303/500\n",
      "11094/11094 [==============================] - 0s 27us/step - loss: 0.4459 - accuracy: 0.7966\n",
      "Epoch 304/500\n"
     ]
    },
    {
     "name": "stdout",
     "output_type": "stream",
     "text": [
      "11094/11094 [==============================] - 0s 28us/step - loss: 0.4610 - accuracy: 0.7860\n",
      "Epoch 305/500\n",
      "11094/11094 [==============================] - 0s 27us/step - loss: 0.4540 - accuracy: 0.7946\n",
      "Epoch 306/500\n",
      "11094/11094 [==============================] - 0s 27us/step - loss: 0.4534 - accuracy: 0.7895\n",
      "Epoch 307/500\n",
      "11094/11094 [==============================] - 0s 27us/step - loss: 0.4593 - accuracy: 0.7875\n",
      "Epoch 308/500\n",
      "11094/11094 [==============================] - 0s 27us/step - loss: 0.4562 - accuracy: 0.7891\n",
      "Epoch 309/500\n",
      "11094/11094 [==============================] - 0s 27us/step - loss: 0.4522 - accuracy: 0.7919\n",
      "Epoch 310/500\n",
      "11094/11094 [==============================] - 0s 27us/step - loss: 0.4547 - accuracy: 0.7926\n",
      "Epoch 311/500\n",
      "11094/11094 [==============================] - 0s 27us/step - loss: 0.4516 - accuracy: 0.7929\n",
      "Epoch 312/500\n",
      "11094/11094 [==============================] - 0s 27us/step - loss: 0.4525 - accuracy: 0.7952\n",
      "Epoch 313/500\n",
      "11094/11094 [==============================] - 0s 27us/step - loss: 0.4546 - accuracy: 0.7931\n",
      "Epoch 314/500\n",
      "11094/11094 [==============================] - 0s 27us/step - loss: 0.4566 - accuracy: 0.7936\n",
      "Epoch 315/500\n",
      "11094/11094 [==============================] - 0s 27us/step - loss: 0.4503 - accuracy: 0.7930\n",
      "Epoch 316/500\n",
      "11094/11094 [==============================] - 0s 27us/step - loss: 0.4530 - accuracy: 0.7918\n",
      "Epoch 317/500\n",
      "11094/11094 [==============================] - 0s 27us/step - loss: 0.4537 - accuracy: 0.7902\n",
      "Epoch 318/500\n",
      "11094/11094 [==============================] - 0s 28us/step - loss: 0.4507 - accuracy: 0.7926\n",
      "Epoch 319/500\n",
      "11094/11094 [==============================] - 0s 27us/step - loss: 0.4480 - accuracy: 0.7957\n",
      "Epoch 320/500\n",
      "11094/11094 [==============================] - 0s 28us/step - loss: 0.4576 - accuracy: 0.7911\n",
      "Epoch 321/500\n",
      "11094/11094 [==============================] - 0s 28us/step - loss: 0.4499 - accuracy: 0.7946\n",
      "Epoch 322/500\n",
      "11094/11094 [==============================] - 0s 27us/step - loss: 0.4530 - accuracy: 0.7925\n",
      "Epoch 323/500\n",
      "11094/11094 [==============================] - 0s 27us/step - loss: 0.4512 - accuracy: 0.7966\n",
      "Epoch 324/500\n",
      "11094/11094 [==============================] - 0s 27us/step - loss: 0.4574 - accuracy: 0.7893\n",
      "Epoch 325/500\n",
      "11094/11094 [==============================] - 0s 27us/step - loss: 0.4542 - accuracy: 0.7938\n",
      "Epoch 326/500\n",
      "11094/11094 [==============================] - 0s 27us/step - loss: 0.4509 - accuracy: 0.7948\n",
      "Epoch 327/500\n",
      "11094/11094 [==============================] - 0s 27us/step - loss: 0.4521 - accuracy: 0.7916\n",
      "Epoch 328/500\n",
      "11094/11094 [==============================] - 0s 27us/step - loss: 0.4503 - accuracy: 0.7925\n",
      "Epoch 329/500\n",
      "11094/11094 [==============================] - 0s 27us/step - loss: 0.4542 - accuracy: 0.7918\n",
      "Epoch 330/500\n",
      "11094/11094 [==============================] - 0s 27us/step - loss: 0.4527 - accuracy: 0.7911\n",
      "Epoch 331/500\n",
      "11094/11094 [==============================] - 0s 28us/step - loss: 0.4501 - accuracy: 0.7929\n",
      "Epoch 332/500\n",
      "11094/11094 [==============================] - 0s 27us/step - loss: 0.4521 - accuracy: 0.7907\n",
      "Epoch 333/500\n",
      "11094/11094 [==============================] - 0s 27us/step - loss: 0.4561 - accuracy: 0.7891\n",
      "Epoch 334/500\n",
      "11094/11094 [==============================] - 0s 27us/step - loss: 0.4508 - accuracy: 0.7951\n",
      "Epoch 335/500\n",
      "11094/11094 [==============================] - 0s 27us/step - loss: 0.4578 - accuracy: 0.7905\n",
      "Epoch 336/500\n",
      "11094/11094 [==============================] - 0s 27us/step - loss: 0.4600 - accuracy: 0.7888\n",
      "Epoch 337/500\n",
      "11094/11094 [==============================] - 0s 28us/step - loss: 0.4473 - accuracy: 0.7954\n",
      "Epoch 338/500\n",
      "11094/11094 [==============================] - 0s 27us/step - loss: 0.4508 - accuracy: 0.7938\n",
      "Epoch 339/500\n",
      "11094/11094 [==============================] - 0s 27us/step - loss: 0.4503 - accuracy: 0.7961\n",
      "Epoch 340/500\n",
      "11094/11094 [==============================] - 0s 27us/step - loss: 0.4547 - accuracy: 0.7914\n",
      "Epoch 341/500\n",
      "11094/11094 [==============================] - 0s 27us/step - loss: 0.4528 - accuracy: 0.7949\n",
      "Epoch 342/500\n",
      "11094/11094 [==============================] - 0s 27us/step - loss: 0.4533 - accuracy: 0.7930\n",
      "Epoch 343/500\n",
      "11094/11094 [==============================] - 0s 27us/step - loss: 0.4534 - accuracy: 0.7930\n",
      "Epoch 344/500\n",
      "11094/11094 [==============================] - 0s 27us/step - loss: 0.4570 - accuracy: 0.7913\n",
      "Epoch 345/500\n",
      "11094/11094 [==============================] - 0s 27us/step - loss: 0.4572 - accuracy: 0.7914\n",
      "Epoch 346/500\n",
      "11094/11094 [==============================] - 0s 27us/step - loss: 0.4538 - accuracy: 0.7893\n",
      "Epoch 347/500\n",
      "11094/11094 [==============================] - 0s 27us/step - loss: 0.4505 - accuracy: 0.7936\n",
      "Epoch 348/500\n",
      "11094/11094 [==============================] - 0s 27us/step - loss: 0.4543 - accuracy: 0.7884\n",
      "Epoch 349/500\n",
      "11094/11094 [==============================] - 0s 27us/step - loss: 0.4542 - accuracy: 0.7932\n",
      "Epoch 350/500\n",
      "11094/11094 [==============================] - 0s 27us/step - loss: 0.4506 - accuracy: 0.7909\n",
      "Epoch 351/500\n",
      "11094/11094 [==============================] - 0s 27us/step - loss: 0.4568 - accuracy: 0.7916\n",
      "Epoch 352/500\n",
      "11094/11094 [==============================] - 0s 28us/step - loss: 0.4495 - accuracy: 0.7939\n",
      "Epoch 353/500\n",
      "11094/11094 [==============================] - 0s 29us/step - loss: 0.4507 - accuracy: 0.7949\n",
      "Epoch 354/500\n",
      "11094/11094 [==============================] - 0s 28us/step - loss: 0.4464 - accuracy: 0.7991\n",
      "Epoch 355/500\n",
      "11094/11094 [==============================] - 0s 27us/step - loss: 0.4547 - accuracy: 0.7921\n",
      "Epoch 356/500\n",
      "11094/11094 [==============================] - 0s 27us/step - loss: 0.4550 - accuracy: 0.7916\n",
      "Epoch 357/500\n",
      "11094/11094 [==============================] - 0s 27us/step - loss: 0.4567 - accuracy: 0.7911\n",
      "Epoch 358/500\n",
      "11094/11094 [==============================] - 0s 27us/step - loss: 0.4539 - accuracy: 0.7902\n",
      "Epoch 359/500\n",
      "11094/11094 [==============================] - 0s 27us/step - loss: 0.4539 - accuracy: 0.7890\n",
      "Epoch 360/500\n",
      "11094/11094 [==============================] - 0s 27us/step - loss: 0.4574 - accuracy: 0.7910\n",
      "Epoch 361/500\n",
      "11094/11094 [==============================] - 0s 27us/step - loss: 0.4511 - accuracy: 0.7936\n",
      "Epoch 362/500\n",
      "11094/11094 [==============================] - 0s 27us/step - loss: 0.4529 - accuracy: 0.7913\n",
      "Epoch 363/500\n",
      "11094/11094 [==============================] - 0s 27us/step - loss: 0.4554 - accuracy: 0.7913\n",
      "Epoch 364/500\n",
      "11094/11094 [==============================] - 0s 27us/step - loss: 0.4519 - accuracy: 0.7929\n",
      "Epoch 365/500\n",
      "11094/11094 [==============================] - 0s 27us/step - loss: 0.4494 - accuracy: 0.7894\n",
      "Epoch 366/500\n",
      "11094/11094 [==============================] - 0s 28us/step - loss: 0.4520 - accuracy: 0.7912\n",
      "Epoch 367/500\n",
      "11094/11094 [==============================] - 0s 27us/step - loss: 0.4498 - accuracy: 0.7952\n",
      "Epoch 368/500\n",
      "11094/11094 [==============================] - 0s 27us/step - loss: 0.4564 - accuracy: 0.7939\n",
      "Epoch 369/500\n",
      "11094/11094 [==============================] - 0s 28us/step - loss: 0.4479 - accuracy: 0.7932\n",
      "Epoch 370/500\n",
      "11094/11094 [==============================] - 0s 28us/step - loss: 0.4523 - accuracy: 0.7920\n",
      "Epoch 371/500\n",
      "11094/11094 [==============================] - 0s 28us/step - loss: 0.4544 - accuracy: 0.7941\n",
      "Epoch 372/500\n",
      "11094/11094 [==============================] - 0s 27us/step - loss: 0.4513 - accuracy: 0.7915\n",
      "Epoch 373/500\n",
      "11094/11094 [==============================] - 0s 27us/step - loss: 0.4535 - accuracy: 0.7909\n",
      "Epoch 374/500\n",
      "11094/11094 [==============================] - 0s 27us/step - loss: 0.4520 - accuracy: 0.7933\n",
      "Epoch 375/500\n",
      "11094/11094 [==============================] - 0s 27us/step - loss: 0.4550 - accuracy: 0.7923\n",
      "Epoch 376/500\n",
      "11094/11094 [==============================] - 0s 27us/step - loss: 0.4537 - accuracy: 0.7920\n",
      "Epoch 377/500\n",
      "11094/11094 [==============================] - 0s 27us/step - loss: 0.4563 - accuracy: 0.7887\n",
      "Epoch 378/500\n",
      "11094/11094 [==============================] - 0s 28us/step - loss: 0.4575 - accuracy: 0.7936\n",
      "Epoch 379/500\n",
      "11094/11094 [==============================] - 0s 27us/step - loss: 0.4500 - accuracy: 0.7934\n"
     ]
    },
    {
     "name": "stdout",
     "output_type": "stream",
     "text": [
      "Epoch 380/500\n",
      "11094/11094 [==============================] - 0s 28us/step - loss: 0.4557 - accuracy: 0.7923\n",
      "Epoch 381/500\n",
      "11094/11094 [==============================] - 0s 27us/step - loss: 0.4520 - accuracy: 0.7927\n",
      "Epoch 382/500\n",
      "11094/11094 [==============================] - 0s 27us/step - loss: 0.4477 - accuracy: 0.7963\n",
      "Epoch 383/500\n",
      "11094/11094 [==============================] - 0s 27us/step - loss: 0.4533 - accuracy: 0.7893\n",
      "Epoch 384/500\n",
      "11094/11094 [==============================] - 0s 28us/step - loss: 0.4524 - accuracy: 0.7957\n",
      "Epoch 385/500\n",
      "11094/11094 [==============================] - 0s 27us/step - loss: 0.4493 - accuracy: 0.7936\n",
      "Epoch 386/500\n",
      "11094/11094 [==============================] - 0s 28us/step - loss: 0.4568 - accuracy: 0.7871\n",
      "Epoch 387/500\n",
      "11094/11094 [==============================] - 0s 28us/step - loss: 0.4472 - accuracy: 0.7939\n",
      "Epoch 388/500\n",
      "11094/11094 [==============================] - 0s 28us/step - loss: 0.4510 - accuracy: 0.7929\n",
      "Epoch 389/500\n",
      "11094/11094 [==============================] - 0s 27us/step - loss: 0.4525 - accuracy: 0.7926\n",
      "Epoch 390/500\n",
      "11094/11094 [==============================] - 0s 27us/step - loss: 0.4493 - accuracy: 0.7954\n",
      "Epoch 391/500\n",
      "11094/11094 [==============================] - 0s 27us/step - loss: 0.4575 - accuracy: 0.7895\n",
      "Epoch 392/500\n",
      "11094/11094 [==============================] - 0s 27us/step - loss: 0.4505 - accuracy: 0.7913\n",
      "Epoch 393/500\n",
      "11094/11094 [==============================] - 0s 27us/step - loss: 0.4526 - accuracy: 0.7896\n",
      "Epoch 394/500\n",
      "11094/11094 [==============================] - 0s 27us/step - loss: 0.4507 - accuracy: 0.7911\n",
      "Epoch 395/500\n",
      "11094/11094 [==============================] - 0s 27us/step - loss: 0.4553 - accuracy: 0.7927\n",
      "Epoch 396/500\n",
      "11094/11094 [==============================] - 0s 27us/step - loss: 0.4531 - accuracy: 0.7915\n",
      "Epoch 397/500\n",
      "11094/11094 [==============================] - 0s 27us/step - loss: 0.4517 - accuracy: 0.7930\n",
      "Epoch 398/500\n",
      "11094/11094 [==============================] - 0s 27us/step - loss: 0.4566 - accuracy: 0.7889\n",
      "Epoch 399/500\n",
      "11094/11094 [==============================] - 0s 27us/step - loss: 0.4490 - accuracy: 0.7934\n",
      "Epoch 400/500\n",
      "11094/11094 [==============================] - 0s 27us/step - loss: 0.4503 - accuracy: 0.7957\n",
      "Epoch 401/500\n",
      "11094/11094 [==============================] - 0s 27us/step - loss: 0.4510 - accuracy: 0.7957\n",
      "Epoch 402/500\n",
      "11094/11094 [==============================] - 0s 28us/step - loss: 0.4564 - accuracy: 0.7928\n",
      "Epoch 403/500\n",
      "11094/11094 [==============================] - 0s 28us/step - loss: 0.4528 - accuracy: 0.7932\n",
      "Epoch 404/500\n",
      "11094/11094 [==============================] - 0s 28us/step - loss: 0.4545 - accuracy: 0.7915\n",
      "Epoch 405/500\n",
      "11094/11094 [==============================] - 0s 27us/step - loss: 0.4524 - accuracy: 0.7949\n",
      "Epoch 406/500\n",
      "11094/11094 [==============================] - 0s 27us/step - loss: 0.4489 - accuracy: 0.7951\n",
      "Epoch 407/500\n",
      "11094/11094 [==============================] - 0s 27us/step - loss: 0.4551 - accuracy: 0.7904\n",
      "Epoch 408/500\n",
      "11094/11094 [==============================] - 0s 27us/step - loss: 0.4552 - accuracy: 0.7911\n",
      "Epoch 409/500\n",
      "11094/11094 [==============================] - 0s 27us/step - loss: 0.4543 - accuracy: 0.7909\n",
      "Epoch 410/500\n",
      "11094/11094 [==============================] - 0s 28us/step - loss: 0.4465 - accuracy: 0.7942\n",
      "Epoch 411/500\n",
      "11094/11094 [==============================] - 0s 27us/step - loss: 0.4529 - accuracy: 0.7924\n",
      "Epoch 412/500\n",
      "11094/11094 [==============================] - 0s 27us/step - loss: 0.4487 - accuracy: 0.7947\n",
      "Epoch 413/500\n",
      "11094/11094 [==============================] - 0s 27us/step - loss: 0.4469 - accuracy: 0.7979\n",
      "Epoch 414/500\n",
      "11094/11094 [==============================] - 0s 27us/step - loss: 0.4525 - accuracy: 0.7963\n",
      "Epoch 415/500\n",
      "11094/11094 [==============================] - 0s 27us/step - loss: 0.4534 - accuracy: 0.7926\n",
      "Epoch 416/500\n",
      "11094/11094 [==============================] - 0s 27us/step - loss: 0.4525 - accuracy: 0.7920\n",
      "Epoch 417/500\n",
      "11094/11094 [==============================] - 0s 28us/step - loss: 0.4560 - accuracy: 0.7928\n",
      "Epoch 418/500\n",
      "11094/11094 [==============================] - 0s 27us/step - loss: 0.4579 - accuracy: 0.7890\n",
      "Epoch 419/500\n",
      "11094/11094 [==============================] - 0s 28us/step - loss: 0.4531 - accuracy: 0.7939\n",
      "Epoch 420/500\n",
      "11094/11094 [==============================] - 0s 28us/step - loss: 0.4537 - accuracy: 0.7924\n",
      "Epoch 421/500\n",
      "11094/11094 [==============================] - 0s 27us/step - loss: 0.4496 - accuracy: 0.7930\n",
      "Epoch 422/500\n",
      "11094/11094 [==============================] - 0s 27us/step - loss: 0.4508 - accuracy: 0.7920\n",
      "Epoch 423/500\n",
      "11094/11094 [==============================] - 0s 27us/step - loss: 0.4546 - accuracy: 0.7939\n",
      "Epoch 424/500\n",
      "11094/11094 [==============================] - 0s 27us/step - loss: 0.4558 - accuracy: 0.7898\n",
      "Epoch 425/500\n",
      "11094/11094 [==============================] - 0s 27us/step - loss: 0.4551 - accuracy: 0.7932\n",
      "Epoch 426/500\n",
      "11094/11094 [==============================] - 0s 27us/step - loss: 0.4538 - accuracy: 0.7920\n",
      "Epoch 427/500\n",
      "11094/11094 [==============================] - 0s 27us/step - loss: 0.4573 - accuracy: 0.7902\n",
      "Epoch 428/500\n",
      "11094/11094 [==============================] - 0s 28us/step - loss: 0.4520 - accuracy: 0.7922\n",
      "Epoch 429/500\n",
      "11094/11094 [==============================] - 0s 27us/step - loss: 0.4519 - accuracy: 0.7947\n",
      "Epoch 430/500\n",
      "11094/11094 [==============================] - 0s 27us/step - loss: 0.4571 - accuracy: 0.7906\n",
      "Epoch 431/500\n",
      "11094/11094 [==============================] - 0s 27us/step - loss: 0.4543 - accuracy: 0.7925\n",
      "Epoch 432/500\n",
      "11094/11094 [==============================] - 0s 27us/step - loss: 0.4567 - accuracy: 0.7930\n",
      "Epoch 433/500\n",
      "11094/11094 [==============================] - 0s 27us/step - loss: 0.4519 - accuracy: 0.7929\n",
      "Epoch 434/500\n",
      "11094/11094 [==============================] - 0s 27us/step - loss: 0.4524 - accuracy: 0.7929\n",
      "Epoch 435/500\n",
      "11094/11094 [==============================] - 0s 28us/step - loss: 0.4497 - accuracy: 0.7952\n",
      "Epoch 436/500\n",
      "11094/11094 [==============================] - 0s 28us/step - loss: 0.4567 - accuracy: 0.7896\n",
      "Epoch 437/500\n",
      "11094/11094 [==============================] - 0s 28us/step - loss: 0.4552 - accuracy: 0.7934\n",
      "Epoch 438/500\n",
      "11094/11094 [==============================] - 0s 27us/step - loss: 0.4514 - accuracy: 0.7936\n",
      "Epoch 439/500\n",
      "11094/11094 [==============================] - 0s 27us/step - loss: 0.4492 - accuracy: 0.7972\n",
      "Epoch 440/500\n",
      "11094/11094 [==============================] - 0s 27us/step - loss: 0.4504 - accuracy: 0.7901\n",
      "Epoch 441/500\n",
      "11094/11094 [==============================] - 0s 27us/step - loss: 0.4502 - accuracy: 0.7995\n",
      "Epoch 442/500\n",
      "11094/11094 [==============================] - 0s 27us/step - loss: 0.4546 - accuracy: 0.7913\n",
      "Epoch 443/500\n",
      "11094/11094 [==============================] - 0s 27us/step - loss: 0.4467 - accuracy: 0.7968\n",
      "Epoch 444/500\n",
      "11094/11094 [==============================] - 0s 27us/step - loss: 0.4499 - accuracy: 0.7960\n",
      "Epoch 445/500\n",
      "11094/11094 [==============================] - 0s 27us/step - loss: 0.4463 - accuracy: 0.7976\n",
      "Epoch 446/500\n",
      "11094/11094 [==============================] - 0s 27us/step - loss: 0.4567 - accuracy: 0.7885\n",
      "Epoch 447/500\n",
      "11094/11094 [==============================] - 0s 27us/step - loss: 0.4533 - accuracy: 0.7929\n",
      "Epoch 448/500\n",
      "11094/11094 [==============================] - 0s 27us/step - loss: 0.4530 - accuracy: 0.7939\n",
      "Epoch 449/500\n",
      "11094/11094 [==============================] - 0s 27us/step - loss: 0.4502 - accuracy: 0.7947\n",
      "Epoch 450/500\n",
      "11094/11094 [==============================] - 0s 27us/step - loss: 0.4539 - accuracy: 0.7892\n",
      "Epoch 451/500\n",
      "11094/11094 [==============================] - 0s 27us/step - loss: 0.4492 - accuracy: 0.7951\n",
      "Epoch 452/500\n",
      "11094/11094 [==============================] - 0s 28us/step - loss: 0.4569 - accuracy: 0.7889\n",
      "Epoch 453/500\n",
      "11094/11094 [==============================] - 0s 28us/step - loss: 0.4503 - accuracy: 0.7941\n",
      "Epoch 454/500\n",
      "11094/11094 [==============================] - 0s 27us/step - loss: 0.4545 - accuracy: 0.7946\n",
      "Epoch 455/500\n"
     ]
    },
    {
     "name": "stdout",
     "output_type": "stream",
     "text": [
      "11094/11094 [==============================] - 0s 28us/step - loss: 0.4543 - accuracy: 0.7940\n",
      "Epoch 456/500\n",
      "11094/11094 [==============================] - 0s 27us/step - loss: 0.4534 - accuracy: 0.7897\n",
      "Epoch 457/500\n",
      "11094/11094 [==============================] - 0s 27us/step - loss: 0.4571 - accuracy: 0.7914\n",
      "Epoch 458/500\n",
      "11094/11094 [==============================] - 0s 28us/step - loss: 0.4513 - accuracy: 0.7953\n",
      "Epoch 459/500\n",
      "11094/11094 [==============================] - 0s 27us/step - loss: 0.4441 - accuracy: 0.7980\n",
      "Epoch 460/500\n",
      "11094/11094 [==============================] - 0s 28us/step - loss: 0.4544 - accuracy: 0.7912\n",
      "Epoch 461/500\n",
      "11094/11094 [==============================] - 0s 27us/step - loss: 0.4534 - accuracy: 0.7920\n",
      "Epoch 462/500\n",
      "11094/11094 [==============================] - 0s 27us/step - loss: 0.4496 - accuracy: 0.7957\n",
      "Epoch 463/500\n",
      "11094/11094 [==============================] - 0s 27us/step - loss: 0.4514 - accuracy: 0.7922\n",
      "Epoch 464/500\n",
      "11094/11094 [==============================] - 0s 27us/step - loss: 0.4463 - accuracy: 0.7948\n",
      "Epoch 465/500\n",
      "11094/11094 [==============================] - 0s 27us/step - loss: 0.4510 - accuracy: 0.7945\n",
      "Epoch 466/500\n",
      "11094/11094 [==============================] - 0s 27us/step - loss: 0.4532 - accuracy: 0.7928\n",
      "Epoch 467/500\n",
      "11094/11094 [==============================] - 0s 27us/step - loss: 0.4541 - accuracy: 0.7957\n",
      "Epoch 468/500\n",
      "11094/11094 [==============================] - 0s 28us/step - loss: 0.4558 - accuracy: 0.7926\n",
      "Epoch 469/500\n",
      "11094/11094 [==============================] - 0s 28us/step - loss: 0.4546 - accuracy: 0.7911\n",
      "Epoch 470/500\n",
      "11094/11094 [==============================] - 0s 28us/step - loss: 0.4526 - accuracy: 0.7937\n",
      "Epoch 471/500\n",
      "11094/11094 [==============================] - 0s 27us/step - loss: 0.4500 - accuracy: 0.7976\n",
      "Epoch 472/500\n",
      "11094/11094 [==============================] - 0s 27us/step - loss: 0.4581 - accuracy: 0.7878\n",
      "Epoch 473/500\n",
      "11094/11094 [==============================] - 0s 32us/step - loss: 0.4547 - accuracy: 0.7921\n",
      "Epoch 474/500\n",
      "11094/11094 [==============================] - 0s 28us/step - loss: 0.4530 - accuracy: 0.7920\n",
      "Epoch 475/500\n",
      "11094/11094 [==============================] - 0s 27us/step - loss: 0.4545 - accuracy: 0.7898\n",
      "Epoch 476/500\n",
      "11094/11094 [==============================] - 0s 27us/step - loss: 0.4498 - accuracy: 0.7962\n",
      "Epoch 477/500\n",
      "11094/11094 [==============================] - 0s 27us/step - loss: 0.4594 - accuracy: 0.7897\n",
      "Epoch 478/500\n",
      "11094/11094 [==============================] - 0s 28us/step - loss: 0.4507 - accuracy: 0.7929\n",
      "Epoch 479/500\n",
      "11094/11094 [==============================] - 0s 27us/step - loss: 0.4517 - accuracy: 0.7961\n",
      "Epoch 480/500\n",
      "11094/11094 [==============================] - 0s 27us/step - loss: 0.4446 - accuracy: 0.7961\n",
      "Epoch 481/500\n",
      "11094/11094 [==============================] - 0s 27us/step - loss: 0.4542 - accuracy: 0.7911\n",
      "Epoch 482/500\n",
      "11094/11094 [==============================] - 0s 27us/step - loss: 0.4497 - accuracy: 0.7950\n",
      "Epoch 483/500\n",
      "11094/11094 [==============================] - 0s 28us/step - loss: 0.4499 - accuracy: 0.7932\n",
      "Epoch 484/500\n",
      "11094/11094 [==============================] - 0s 28us/step - loss: 0.4507 - accuracy: 0.7952\n",
      "Epoch 485/500\n",
      "11094/11094 [==============================] - 0s 29us/step - loss: 0.4512 - accuracy: 0.7968\n",
      "Epoch 486/500\n",
      "11094/11094 [==============================] - 0s 28us/step - loss: 0.4494 - accuracy: 0.7957\n",
      "Epoch 487/500\n",
      "11094/11094 [==============================] - 0s 28us/step - loss: 0.4509 - accuracy: 0.7929\n",
      "Epoch 488/500\n",
      "11094/11094 [==============================] - 0s 27us/step - loss: 0.4542 - accuracy: 0.7923\n",
      "Epoch 489/500\n",
      "11094/11094 [==============================] - 0s 28us/step - loss: 0.4548 - accuracy: 0.7902\n",
      "Epoch 490/500\n",
      "11094/11094 [==============================] - 0s 27us/step - loss: 0.4493 - accuracy: 0.7973\n",
      "Epoch 491/500\n",
      "11094/11094 [==============================] - 0s 27us/step - loss: 0.4524 - accuracy: 0.7912\n",
      "Epoch 492/500\n",
      "11094/11094 [==============================] - 0s 29us/step - loss: 0.4491 - accuracy: 0.7931\n",
      "Epoch 493/500\n",
      "11094/11094 [==============================] - 0s 28us/step - loss: 0.4480 - accuracy: 0.7949\n",
      "Epoch 494/500\n",
      "11094/11094 [==============================] - 0s 30us/step - loss: 0.4527 - accuracy: 0.7930\n",
      "Epoch 495/500\n",
      "11094/11094 [==============================] - 0s 28us/step - loss: 0.4494 - accuracy: 0.7930\n",
      "Epoch 496/500\n",
      "11094/11094 [==============================] - 0s 28us/step - loss: 0.4539 - accuracy: 0.7905\n",
      "Epoch 497/500\n",
      "11094/11094 [==============================] - 0s 28us/step - loss: 0.4505 - accuracy: 0.7962\n",
      "Epoch 498/500\n",
      "11094/11094 [==============================] - 0s 27us/step - loss: 0.4530 - accuracy: 0.7928\n",
      "Epoch 499/500\n",
      "11094/11094 [==============================] - 0s 30us/step - loss: 0.4497 - accuracy: 0.7937\n",
      "Epoch 500/500\n",
      "11094/11094 [==============================] - 0s 28us/step - loss: 0.4490 - accuracy: 0.7945\n"
     ]
    },
    {
     "data": {
      "text/plain": [
       "GridSearchCV(cv=10, error_score='raise-deprecating',\n",
       "             estimator=<keras.wrappers.scikit_learn.KerasClassifier object at 0x0000020FBD4834C8>,\n",
       "             iid='warn', n_jobs=4,\n",
       "             param_grid={'batch_size': [32, 64], 'epochs': [100, 500],\n",
       "                         'optimizer': ['adam', 'rmsprop']},\n",
       "             pre_dispatch='2*n_jobs', refit=True, return_train_score=True,\n",
       "             scoring='accuracy', verbose=0)"
      ]
     },
     "execution_count": 81,
     "metadata": {},
     "output_type": "execute_result"
    }
   ],
   "source": [
    "gd_cv.fit(X_train_skl, y_train_smt)"
   ]
  },
  {
   "cell_type": "code",
   "execution_count": 82,
   "metadata": {},
   "outputs": [
    {
     "data": {
      "text/plain": [
       "{'batch_size': 32, 'epochs': 500, 'optimizer': 'adam'}"
      ]
     },
     "execution_count": 82,
     "metadata": {},
     "output_type": "execute_result"
    }
   ],
   "source": [
    "gd_cv.best_params_"
   ]
  },
  {
   "cell_type": "code",
   "execution_count": 83,
   "metadata": {},
   "outputs": [
    {
     "data": {
      "text/plain": [
       "0.8181900126194339"
      ]
     },
     "execution_count": 83,
     "metadata": {},
     "output_type": "execute_result"
    }
   ],
   "source": [
    "gd_cv.best_score_"
   ]
  },
  {
   "cell_type": "code",
   "execution_count": 84,
   "metadata": {},
   "outputs": [],
   "source": [
    "gd_cv_pred=gd_cv.predict(X_test_skl)"
   ]
  },
  {
   "cell_type": "code",
   "execution_count": 85,
   "metadata": {},
   "outputs": [],
   "source": [
    "pred=[]\n",
    "for i in gd_cv_pred:\n",
    "    if i >0.5:\n",
    "        pred.append(1)\n",
    "    else:\n",
    "        pred.append(0)"
   ]
  },
  {
   "cell_type": "code",
   "execution_count": 86,
   "metadata": {},
   "outputs": [],
   "source": [
    "pred=pd.Series(pred)"
   ]
  },
  {
   "cell_type": "code",
   "execution_count": 87,
   "metadata": {},
   "outputs": [
    {
     "name": "stdout",
     "output_type": "stream",
     "text": [
      "              precision    recall  f1-score   support\n",
      "\n",
      "           0       0.92      0.82      0.87      2416\n",
      "           1       0.49      0.72      0.58       584\n",
      "\n",
      "    accuracy                           0.80      3000\n",
      "   macro avg       0.71      0.77      0.72      3000\n",
      "weighted avg       0.84      0.80      0.81      3000\n",
      "\n"
     ]
    }
   ],
   "source": [
    "print(classification_report(y_test, pred))"
   ]
  },
  {
   "cell_type": "code",
   "execution_count": 88,
   "metadata": {},
   "outputs": [
    {
     "name": "stdout",
     "output_type": "stream",
     "text": [
      "[[1970  446]\n",
      " [ 161  423]]\n"
     ]
    }
   ],
   "source": [
    "print(confusion_matrix(y_test, pred))"
   ]
  },
  {
   "cell_type": "code",
   "execution_count": null,
   "metadata": {},
   "outputs": [],
   "source": []
  },
  {
   "cell_type": "code",
   "execution_count": null,
   "metadata": {},
   "outputs": [],
   "source": []
  },
  {
   "cell_type": "code",
   "execution_count": null,
   "metadata": {},
   "outputs": [],
   "source": []
  }
 ],
 "metadata": {
  "kernelspec": {
   "display_name": "Python 3",
   "language": "python",
   "name": "python3"
  },
  "language_info": {
   "codemirror_mode": {
    "name": "ipython",
    "version": 3
   },
   "file_extension": ".py",
   "mimetype": "text/x-python",
   "name": "python",
   "nbconvert_exporter": "python",
   "pygments_lexer": "ipython3",
   "version": "3.7.5"
  }
 },
 "nbformat": 4,
 "nbformat_minor": 2
}
